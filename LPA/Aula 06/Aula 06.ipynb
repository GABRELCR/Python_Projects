{
 "cells": [
  {
   "metadata": {},
   "cell_type": "markdown",
   "source": "# Tuplas",
   "id": "8ea129ab225a8496"
  },
  {
   "metadata": {},
   "cell_type": "markdown",
   "source": "Construindo e manipulando tuplas",
   "id": "701df11ec14b2249"
  },
  {
   "metadata": {
    "ExecuteTime": {
     "end_time": "2025-05-14T11:13:54.737966Z",
     "start_time": "2025-05-14T11:13:54.733784Z"
    }
   },
   "cell_type": "code",
   "source": [
    "mochila = ('Machado','Camisa','Bacon','Abacate')\n",
    "print(mochila)"
   ],
   "id": "initial_id",
   "outputs": [
    {
     "name": "stdout",
     "output_type": "stream",
     "text": [
      "('Machado', 'Camisa', 'Bacon', 'Abacate')\n"
     ]
    }
   ],
   "execution_count": 9
  },
  {
   "metadata": {
    "ExecuteTime": {
     "end_time": "2025-05-14T11:13:56.793985Z",
     "start_time": "2025-05-14T11:13:56.787514Z"
    }
   },
   "cell_type": "code",
   "source": [
    "print(mochila[0]) # Elemento 1 - Índice 0\n",
    "print(mochila[2]) # Elemento 3 - Índice 2\n",
    "print(mochila[0:2]) # Elementos 1 e 2 - Índice 0 e 1\n",
    "print(mochila[2:]) #Elementos a partir de 2\n",
    "print(mochila[-1]) # Último Elemento da direita para a esquerda"
   ],
   "id": "1f9163aec3b9fa32",
   "outputs": [
    {
     "name": "stdout",
     "output_type": "stream",
     "text": [
      "Machado\n",
      "Bacon\n",
      "('Machado', 'Camisa')\n",
      "('Bacon', 'Abacate')\n",
      "Abacate\n"
     ]
    }
   ],
   "execution_count": 10
  },
  {
   "metadata": {
    "ExecuteTime": {
     "end_time": "2025-05-14T11:12:43.887844Z",
     "start_time": "2025-05-14T11:12:43.869067Z"
    }
   },
   "cell_type": "code",
   "source": "mochila[2] = 'Ovos'",
   "id": "6a6c187a56334413",
   "outputs": [
    {
     "ename": "TypeError",
     "evalue": "'tuple' object does not support item assignment",
     "output_type": "error",
     "traceback": [
      "\u001B[31m---------------------------------------------------------------------------\u001B[39m",
      "\u001B[31mTypeError\u001B[39m                                 Traceback (most recent call last)",
      "\u001B[36mCell\u001B[39m\u001B[36m \u001B[39m\u001B[32mIn[6]\u001B[39m\u001B[32m, line 1\u001B[39m\n\u001B[32m----> \u001B[39m\u001B[32m1\u001B[39m \u001B[43mmochila\u001B[49m\u001B[43m[\u001B[49m\u001B[32;43m2\u001B[39;49m\u001B[43m]\u001B[49m = \u001B[33m'\u001B[39m\u001B[33mOvos\u001B[39m\u001B[33m'\u001B[39m\n",
      "\u001B[31mTypeError\u001B[39m: 'tuple' object does not support item assignment"
     ]
    }
   ],
   "execution_count": 6
  },
  {
   "metadata": {
    "ExecuteTime": {
     "end_time": "2025-05-14T11:12:47.744527Z",
     "start_time": "2025-05-14T11:12:47.741354Z"
    }
   },
   "cell_type": "code",
   "source": [
    "for item in mochila:\n",
    "    print(f'Na minha mochila tem: {item}')"
   ],
   "id": "724857035b16071d",
   "outputs": [
    {
     "name": "stdout",
     "output_type": "stream",
     "text": [
      "Na minha mochila tem: Machado\n",
      "Na minha mochila tem: Camisa\n",
      "Na minha mochila tem: Bacon\n",
      "Na minha mochila tem: Machado\n"
     ]
    }
   ],
   "execution_count": 8
  },
  {
   "metadata": {
    "ExecuteTime": {
     "end_time": "2025-05-14T11:17:06.540269Z",
     "start_time": "2025-05-14T11:17:06.536455Z"
    }
   },
   "cell_type": "code",
   "source": [
    "tam = len(mochila)\n",
    "\n",
    "for i in range(0,tam,1):\n",
    "    print(f'Na minha mochila tem: {mochila[i]}')"
   ],
   "id": "c3d55ef797183c04",
   "outputs": [
    {
     "name": "stdout",
     "output_type": "stream",
     "text": [
      "Na minha mochila tem: Machado\n",
      "Na minha mochila tem: Camisa\n",
      "Na minha mochila tem: Bacon\n",
      "Na minha mochila tem: Abacate\n"
     ]
    }
   ],
   "execution_count": 11
  },
  {
   "metadata": {
    "ExecuteTime": {
     "end_time": "2025-05-14T11:19:45.756185Z",
     "start_time": "2025-05-14T11:19:45.751685Z"
    }
   },
   "cell_type": "code",
   "source": [
    "mochila = ('Machado', 'Camisa', 'Bacon', 'Abacate')\n",
    "upgrade = ('Queijo', 'Canivete')\n",
    "vazia = tuple()\n",
    "mochila_grande = mochila + upgrade\n",
    "\n",
    "print(mochila)\n",
    "print(upgrade)\n",
    "print(mochila_grande)"
   ],
   "id": "4c126a0140925e1d",
   "outputs": [
    {
     "name": "stdout",
     "output_type": "stream",
     "text": [
      "('Machado', 'Camisa', 'Bacon', 'Abacate')\n",
      "('Queijo', 'Canivete')\n",
      "('Machado', 'Camisa', 'Bacon', 'Abacate', 'Queijo', 'Canivete')\n"
     ]
    }
   ],
   "execution_count": 12
  },
  {
   "metadata": {
    "ExecuteTime": {
     "end_time": "2025-05-14T11:20:59.851120Z",
     "start_time": "2025-05-14T11:20:59.847544Z"
    }
   },
   "cell_type": "code",
   "source": [
    "mochila_grande_invertida = upgrade + mochila\n",
    "\n",
    "print(mochila_grande)\n",
    "print(mochila_grande_invertida)"
   ],
   "id": "d3b62ae15592b0a3",
   "outputs": [
    {
     "name": "stdout",
     "output_type": "stream",
     "text": [
      "('Machado', 'Camisa', 'Bacon', 'Abacate', 'Queijo', 'Canivete')\n",
      "('Queijo', 'Canivete', 'Machado', 'Camisa', 'Bacon', 'Abacate')\n"
     ]
    }
   ],
   "execution_count": 14
  },
  {
   "metadata": {},
   "cell_type": "markdown",
   "source": "Desempacotamento de parâmetros em funções",
   "id": "fd9a2649b880e0f7"
  },
  {
   "metadata": {
    "ExecuteTime": {
     "end_time": "2025-05-14T11:26:57.056338Z",
     "start_time": "2025-05-14T11:26:57.052215Z"
    }
   },
   "cell_type": "code",
   "source": [
    "def soma(*num):\n",
    "    acumulador = 0\n",
    "    print(f'Tupla: {num}')\n",
    "    for item in num:\n",
    "        acumulador += item\n",
    "    return acumulador\n",
    "\n",
    "#programa principal\n",
    "print(f'Resultado: {soma(1,2)}\\n')\n",
    "print(f'Resultado: {soma(1,2,3,4,5,6,7,8,9)}\\n')"
   ],
   "id": "2d56529c54e9f3fd",
   "outputs": [
    {
     "name": "stdout",
     "output_type": "stream",
     "text": [
      "Tupla: (1, 2)\n",
      "Resultado: 3\n",
      "\n",
      "Tupla: (1, 2, 3, 4, 5, 6, 7, 8, 9)\n",
      "Resultado: 45\n",
      "\n"
     ]
    }
   ],
   "execution_count": 15
  },
  {
   "metadata": {},
   "cell_type": "markdown",
   "source": "# Listas",
   "id": "9486662cc60fd5ed"
  },
  {
   "metadata": {
    "ExecuteTime": {
     "end_time": "2025-05-14T11:35:53.920236Z",
     "start_time": "2025-05-14T11:35:53.916395Z"
    }
   },
   "cell_type": "code",
   "source": [
    "mochila = ('Machado', 'Camisa', 'Bacon', 'Abacate')\n",
    "print('Tupla: ', mochila)\n",
    "\n",
    "mochila = ['Machado', 'Camisa', 'Bacon', 'Abacate']\n",
    "print('Lista: ', mochila)"
   ],
   "id": "4e93c398ad14f7fe",
   "outputs": [
    {
     "name": "stdout",
     "output_type": "stream",
     "text": [
      "Tupla:  ('Machado', 'Camisa', 'Bacon', 'Abacate')\n",
      "Lista:  ['Machado', 'Camisa', 'Bacon', 'Abacate']\n"
     ]
    }
   ],
   "execution_count": 25
  },
  {
   "metadata": {
    "ExecuteTime": {
     "end_time": "2025-05-14T11:35:55.275584Z",
     "start_time": "2025-05-14T11:35:54.937250Z"
    }
   },
   "cell_type": "code",
   "source": [
    "mochila[2] = 'Laranja'\n",
    "print('Lista: ', mochila)"
   ],
   "id": "7f2145aeca340090",
   "outputs": [
    {
     "name": "stdout",
     "output_type": "stream",
     "text": [
      "Lista:  ['Machado', 'Camisa', 'Laranja', 'Abacate']\n"
     ]
    }
   ],
   "execution_count": 26
  },
  {
   "metadata": {},
   "cell_type": "markdown",
   "source": "Manipulando listas",
   "id": "9ba54b16599b8e98"
  },
  {
   "metadata": {
    "ExecuteTime": {
     "end_time": "2025-05-14T11:35:56.445870Z",
     "start_time": "2025-05-14T11:35:56.441715Z"
    }
   },
   "cell_type": "code",
   "source": [
    "mochila.append('Ovos') # Adiciona no fim da lista\n",
    "print('Lista: ', mochila)"
   ],
   "id": "1f198db040fc0177",
   "outputs": [
    {
     "name": "stdout",
     "output_type": "stream",
     "text": [
      "Lista:  ['Machado', 'Camisa', 'Laranja', 'Abacate', 'Ovos']\n"
     ]
    }
   ],
   "execution_count": 27
  },
  {
   "metadata": {
    "ExecuteTime": {
     "end_time": "2025-05-14T11:35:58.845537Z",
     "start_time": "2025-05-14T11:35:58.840846Z"
    }
   },
   "cell_type": "code",
   "source": [
    "mochila.insert(1, 'Canivete') # Insere na posição informada\n",
    "print('Lista: ', mochila)"
   ],
   "id": "e07ddc1495573f74",
   "outputs": [
    {
     "name": "stdout",
     "output_type": "stream",
     "text": [
      "Lista:  ['Machado', 'Canivete', 'Camisa', 'Laranja', 'Abacate', 'Ovos']\n"
     ]
    }
   ],
   "execution_count": 28
  },
  {
   "metadata": {
    "ExecuteTime": {
     "end_time": "2025-05-14T11:37:21.202470Z",
     "start_time": "2025-05-14T11:37:21.198940Z"
    }
   },
   "cell_type": "code",
   "source": [
    "del mochila[1] # Deleta o índice informado\n",
    "print('Lista: ', mochila)\n",
    "\n",
    "mochila.remove('Ovos') # Deleta o dado informado\n",
    "print('Lista: ', mochila)"
   ],
   "id": "3ddcdbcd175a4c3c",
   "outputs": [
    {
     "name": "stdout",
     "output_type": "stream",
     "text": [
      "Lista:  ['Machado', 'Camisa', 'Laranja', 'Abacate', 'Ovos']\n",
      "Lista:  ['Machado', 'Camisa', 'Laranja', 'Abacate']\n"
     ]
    }
   ],
   "execution_count": 29
  },
  {
   "metadata": {},
   "cell_type": "markdown",
   "source": "Cópia de listas",
   "id": "8450cb3a902937a0"
  },
  {
   "metadata": {
    "ExecuteTime": {
     "end_time": "2025-05-14T11:40:12.454352Z",
     "start_time": "2025-05-14T11:40:12.449380Z"
    }
   },
   "cell_type": "code",
   "source": [
    "# Mesma referência\n",
    "\n",
    "lista_original = [5, 7, 9, 11]\n",
    "lista_referenciada = lista_original # É só um link para a variável original\n",
    "\n",
    "print(lista_original)\n",
    "print(lista_referenciada)"
   ],
   "id": "36756575ec930e6a",
   "outputs": [
    {
     "name": "stdout",
     "output_type": "stream",
     "text": [
      "[5, 7, 9, 11]\n",
      "[5, 7, 9, 11]\n"
     ]
    }
   ],
   "execution_count": 32
  },
  {
   "metadata": {
    "ExecuteTime": {
     "end_time": "2025-05-14T11:40:14.973214Z",
     "start_time": "2025-05-14T11:40:14.969163Z"
    }
   },
   "cell_type": "code",
   "source": [
    "lista_referenciada[0] = 2\n",
    "\n",
    "print(lista_original)\n",
    "print(lista_referenciada)"
   ],
   "id": "c90e33b6a84fa5af",
   "outputs": [
    {
     "name": "stdout",
     "output_type": "stream",
     "text": [
      "[2, 7, 9, 11]\n",
      "[2, 7, 9, 11]\n"
     ]
    }
   ],
   "execution_count": 33
  },
  {
   "metadata": {
    "ExecuteTime": {
     "end_time": "2025-05-14T11:42:58.855737Z",
     "start_time": "2025-05-14T11:42:58.851872Z"
    }
   },
   "cell_type": "code",
   "source": [
    "# Cópia\n",
    "lista_original = [5, 7, 9, 11]\n",
    "lista_referenciada = lista_original[:] # Faz uma cópia que é igual a original\n",
    "\n",
    "print(lista_original)\n",
    "print(lista_referenciada)"
   ],
   "id": "f8bda70c1a154f79",
   "outputs": [
    {
     "name": "stdout",
     "output_type": "stream",
     "text": [
      "[5, 7, 9, 11]\n",
      "[5, 7, 9, 11]\n"
     ]
    }
   ],
   "execution_count": 34
  },
  {
   "metadata": {
    "ExecuteTime": {
     "end_time": "2025-05-14T11:43:16.503911Z",
     "start_time": "2025-05-14T11:43:16.499223Z"
    }
   },
   "cell_type": "code",
   "source": [
    "lista_referenciada[0] = 2\n",
    "\n",
    "print(lista_original)\n",
    "print(lista_referenciada)"
   ],
   "id": "32fa502d7f04b259",
   "outputs": [
    {
     "name": "stdout",
     "output_type": "stream",
     "text": [
      "[5, 7, 9, 11]\n",
      "[2, 7, 9, 11]\n"
     ]
    }
   ],
   "execution_count": 35
  },
  {
   "metadata": {},
   "cell_type": "markdown",
   "source": "# Strings e listas dentro de listas",
   "id": "46be3bd730090fa6"
  },
  {
   "metadata": {
    "ExecuteTime": {
     "end_time": "2025-05-14T11:57:19.952707Z",
     "start_time": "2025-05-14T11:57:19.949042Z"
    }
   },
   "cell_type": "code",
   "source": [
    "mochila = ['Machado', 'Camisa', 'Bacon', 'Abacate']\n",
    "print(mochila[0])"
   ],
   "id": "8522d97275de3e63",
   "outputs": [
    {
     "name": "stdout",
     "output_type": "stream",
     "text": [
      "Machado\n"
     ]
    }
   ],
   "execution_count": 36
  },
  {
   "metadata": {
    "ExecuteTime": {
     "end_time": "2025-05-14T11:57:21.736711Z",
     "start_time": "2025-05-14T11:57:21.732756Z"
    }
   },
   "cell_type": "code",
   "source": [
    "mochila = ['Machado', 'Camisa', 'Bacon', 'Abacate']\n",
    "print(mochila[0][0])\n",
    "print(mochila[2][1])"
   ],
   "id": "f6834a16336b4975",
   "outputs": [
    {
     "name": "stdout",
     "output_type": "stream",
     "text": [
      "M\n",
      "a\n"
     ]
    }
   ],
   "execution_count": 37
  },
  {
   "metadata": {
    "ExecuteTime": {
     "end_time": "2025-05-14T11:58:38.352874Z",
     "start_time": "2025-05-14T11:58:38.349139Z"
    }
   },
   "cell_type": "code",
   "source": [
    "mochila = ['Machado', 'Camisa', 'Bacon', 'Abacate']\n",
    "\n",
    "for item in mochila:\n",
    "\n",
    "    for letra in item:\n",
    "        print(letra, end='') # Sem quebra de linha\n",
    "\n",
    "    print() # quebra de linha"
   ],
   "id": "5eea6b2a134888e4",
   "outputs": [
    {
     "name": "stdout",
     "output_type": "stream",
     "text": [
      "Machado\n",
      "Camisa\n",
      "Bacon\n",
      "Abacate\n"
     ]
    }
   ],
   "execution_count": 38
  },
  {
   "metadata": {
    "ExecuteTime": {
     "end_time": "2025-05-14T12:00:33.102173Z",
     "start_time": "2025-05-14T12:00:33.098338Z"
    }
   },
   "cell_type": "code",
   "source": [
    "mochila = ['Machado', 'Camisa', 'Bacon', 'Abacate']\n",
    "\n",
    "for i in range(0,len(mochila),1):\n",
    "\n",
    "    for j in range(0,len(mochila[i]),1):\n",
    "        print(mochila[i][j],end='')\n",
    "\n",
    "    print()"
   ],
   "id": "aebcce47a1fde40e",
   "outputs": [
    {
     "name": "stdout",
     "output_type": "stream",
     "text": [
      "Machado\n",
      "Camisa\n",
      "Bacon\n",
      "Abacate\n"
     ]
    }
   ],
   "execution_count": 39
  },
  {
   "metadata": {},
   "cell_type": "markdown",
   "source": "Exercício",
   "id": "fc265d8b53be2839"
  },
  {
   "metadata": {
    "ExecuteTime": {
     "end_time": "2025-05-14T12:31:26.863475Z",
     "start_time": "2025-05-14T12:31:10.932076Z"
    }
   },
   "cell_type": "code",
   "source": [
    "item = [] # lista vazia\n",
    "mercado = []\n",
    "vazia = list()\n",
    "\n",
    "for i in range(3):\n",
    "    item.append(input('Digite o nome do item:'))\n",
    "    item.append(int(input('Digite a quantidade:')))\n",
    "    item.append(float(input('Digite o valor:')))\n",
    "    mercado.append(item[:])\n",
    "    item.clear() # para não ficar adicionando a mesma variável\n",
    "\n",
    "print(mercado)"
   ],
   "id": "4c41adfc21f16e50",
   "outputs": [
    {
     "name": "stdout",
     "output_type": "stream",
     "text": [
      "[['cebola', 1, 1.0], ['tomate', 1, 1.0], ['banana', 1, 1.0]]\n"
     ]
    }
   ],
   "execution_count": 47
  },
  {
   "metadata": {
    "ExecuteTime": {
     "end_time": "2025-05-14T12:26:52.664459Z",
     "start_time": "2025-05-14T12:26:22.499724Z"
    }
   },
   "cell_type": "code",
   "source": [
    "mercado = []\n",
    "\n",
    "for i in range(3):\n",
    "    nome = input('Digite o nome do item:')\n",
    "    qtd = int(input('Digite a quantidade:'))\n",
    "    valor = float(input('Digite o valor:'))\n",
    "    mercado.append([nome,qtd,valor])\n",
    "\n",
    "print(mercado)"
   ],
   "id": "97f54158fbc00009",
   "outputs": [
    {
     "name": "stdout",
     "output_type": "stream",
     "text": [
      "[['a', 1, 5.6], ['asd', 1, 1.6], ['aksd', 11, 1.44]]\n"
     ]
    }
   ],
   "execution_count": 44
  },
  {
   "metadata": {
    "ExecuteTime": {
     "end_time": "2025-05-14T12:32:14.785792Z",
     "start_time": "2025-05-14T12:32:14.780979Z"
    }
   },
   "cell_type": "code",
   "source": [
    "soma = 0\n",
    "\n",
    "print('-' * 20)\n",
    "print('lista de compras')\n",
    "print('-' * 20)\n",
    "print('Item | Quantidade | Valor unitário | Total do item')\n",
    "\n",
    "for item in mercado:\n",
    "    print('{} | {} | {} | {}'.format(item[0], item[1], item[2], item[1] * item[2]))\n",
    "    soma += item[1] * item[2]\n",
    "\n",
    "print('-' * 20)\n",
    "print(f'Total a pagar: {soma}')\n",
    "print('-' * 20)"
   ],
   "id": "b21180e631b1103b",
   "outputs": [
    {
     "name": "stdout",
     "output_type": "stream",
     "text": [
      "--------------------\n",
      "lista de compras\n",
      "--------------------\n",
      "Item | Quantidade | Valor unitário | Total do item\n",
      "cebola | 1 | 1.0 | 1.0\n",
      "tomate | 1 | 1.0 | 1.0\n",
      "banana | 1 | 1.0 | 1.0\n",
      "--------------------\n",
      "Total a pagar: 3.0\n",
      "--------------------\n"
     ]
    }
   ],
   "execution_count": 49
  },
  {
   "metadata": {},
   "cell_type": "markdown",
   "source": "# Dicionários",
   "id": "20204fec684d9171"
  },
  {
   "metadata": {
    "ExecuteTime": {
     "end_time": "2025-05-14T12:39:32.189858Z",
     "start_time": "2025-05-14T12:39:32.186162Z"
    }
   },
   "cell_type": "code",
   "source": [
    "mochila = ('Laptop', 'Smartphone', 'Power Bank', 'Carregadores e cabos')\n",
    "print('Tupla:', mochila)\n",
    "\n",
    "mochila = ['Laptop', 'Smartphone', 'Power Bank', 'Carregadores e cabos']\n",
    "print('Lista:', mochila)\n",
    "\n",
    "mochila = {'Laptop':1, 'Smartphone':2, 'Power Bank':3, 'Carregadores e cabos':4}\n",
    "print('Dicionário:', mochila)"
   ],
   "id": "30ce1250aa758ec2",
   "outputs": [
    {
     "name": "stdout",
     "output_type": "stream",
     "text": [
      "Tupla: ('Laptop', 'Smartphone', 'Power Bank', 'Carregadores e cabos')\n",
      "Lista: ['Laptop', 'Smartphone', 'Power Bank', 'Carregadores e cabos']\n",
      "Dicionário: {'Laptop': 1, 'Smartphone': 2, 'Power Bank': 3, 'Carregadores e cabos': 4}\n"
     ]
    }
   ],
   "execution_count": 53
  },
  {
   "metadata": {
    "ExecuteTime": {
     "end_time": "2025-05-14T12:38:45.157766Z",
     "start_time": "2025-05-14T12:38:45.154564Z"
    }
   },
   "cell_type": "code",
   "source": [
    "game = {'nome': 'Super Mario',\n",
    "        'desenvolvedora':'Nintendo',\n",
    "        'ano':1990}\n",
    "print(game)"
   ],
   "id": "f35f9e06a599d4f7",
   "outputs": [
    {
     "name": "stdout",
     "output_type": "stream",
     "text": [
      "{'nome': 'Super Mario', 'desenvolvedora': 'Nintendo', 'ano': 1990}\n"
     ]
    }
   ],
   "execution_count": 52
  },
  {
   "metadata": {
    "ExecuteTime": {
     "end_time": "2025-05-14T12:40:01.486459Z",
     "start_time": "2025-05-14T12:40:01.482678Z"
    }
   },
   "cell_type": "code",
   "source": [
    "print(game['nome'])\n",
    "print(game['desenvolvedora'])\n",
    "print(game['ano'])"
   ],
   "id": "90c5b78796f96b38",
   "outputs": [
    {
     "name": "stdout",
     "output_type": "stream",
     "text": [
      "Super Mario\n",
      "Nintendo\n",
      "1990\n"
     ]
    }
   ],
   "execution_count": 54
  },
  {
   "metadata": {
    "ExecuteTime": {
     "end_time": "2025-05-14T12:43:34.679593Z",
     "start_time": "2025-05-14T12:43:34.675219Z"
    }
   },
   "cell_type": "code",
   "source": "print(game.values())",
   "id": "236205b8621c4804",
   "outputs": [
    {
     "name": "stdout",
     "output_type": "stream",
     "text": [
      "dict_values(['Super Mario', 'Nintendo', 1990])\n"
     ]
    }
   ],
   "execution_count": 55
  },
  {
   "metadata": {
    "ExecuteTime": {
     "end_time": "2025-05-14T12:43:57.038482Z",
     "start_time": "2025-05-14T12:43:57.035426Z"
    }
   },
   "cell_type": "code",
   "source": [
    "for values in game.values():\n",
    "    print(values)"
   ],
   "id": "d7e4446581d7154b",
   "outputs": [
    {
     "name": "stdout",
     "output_type": "stream",
     "text": [
      "Super Mario\n",
      "Nintendo\n",
      "1990\n"
     ]
    }
   ],
   "execution_count": 56
  },
  {
   "metadata": {
    "ExecuteTime": {
     "end_time": "2025-05-14T12:44:12.653070Z",
     "start_time": "2025-05-14T12:44:12.649829Z"
    }
   },
   "cell_type": "code",
   "source": "print(game.keys())",
   "id": "ce2a9cf1d30e3ea",
   "outputs": [
    {
     "name": "stdout",
     "output_type": "stream",
     "text": [
      "dict_keys(['nome', 'desenvolvedora', 'ano'])\n"
     ]
    }
   ],
   "execution_count": 57
  },
  {
   "metadata": {
    "ExecuteTime": {
     "end_time": "2025-05-14T12:44:26.428492Z",
     "start_time": "2025-05-14T12:44:26.425508Z"
    }
   },
   "cell_type": "code",
   "source": [
    "for keys in game:\n",
    "    print(keys)"
   ],
   "id": "331d6ca75c2e389f",
   "outputs": [
    {
     "name": "stdout",
     "output_type": "stream",
     "text": [
      "nome\n",
      "desenvolvedora\n",
      "ano\n"
     ]
    }
   ],
   "execution_count": 58
  },
  {
   "metadata": {
    "ExecuteTime": {
     "end_time": "2025-05-14T12:45:31.622600Z",
     "start_time": "2025-05-14T12:45:31.618592Z"
    }
   },
   "cell_type": "code",
   "source": "print(game.items())",
   "id": "73d7f0ed952cbec",
   "outputs": [
    {
     "name": "stdout",
     "output_type": "stream",
     "text": [
      "dict_items([('nome', 'Super Mario'), ('desenvolvedora', 'Nintendo'), ('ano', 1990)])\n"
     ]
    }
   ],
   "execution_count": 60
  },
  {
   "metadata": {
    "ExecuteTime": {
     "end_time": "2025-05-14T12:45:26.647439Z",
     "start_time": "2025-05-14T12:45:26.644504Z"
    }
   },
   "cell_type": "code",
   "source": [
    "for keys, values in game.items():\n",
    "    print(f'{keys} = {values}')"
   ],
   "id": "eb20ab9ab0d8850b",
   "outputs": [
    {
     "name": "stdout",
     "output_type": "stream",
     "text": [
      "nome = Super Mario\n",
      "desenvolvedora = Nintendo\n",
      "ano = 1990\n"
     ]
    }
   ],
   "execution_count": 59
  },
  {
   "metadata": {},
   "cell_type": "markdown",
   "source": "Listas com dicionários",
   "id": "5f56f20c7045a47f"
  },
  {
   "metadata": {
    "ExecuteTime": {
     "end_time": "2025-05-14T12:49:50.782538Z",
     "start_time": "2025-05-14T12:49:50.778915Z"
    }
   },
   "cell_type": "code",
   "source": [
    "games = []\n",
    "\n",
    "game1 = {'nome':'Super Mario',\n",
    "        'videogame':'Super Nintendo',\n",
    "         'ano':1990}\n",
    "game2 = {'nome':'Zelda Ocarina of Time',\n",
    "         'videogame': 'Nintendo 64',\n",
    "         'ano':1998}\n",
    "game3 = {'nome':'Pokemon Yellow',\n",
    "         'videogame': 'Game Boy',\n",
    "         'ano':1999}\n",
    "\n",
    "games = [game1, game2, game3]\n",
    "print(games)"
   ],
   "id": "c3862d1846c2d36b",
   "outputs": [
    {
     "name": "stdout",
     "output_type": "stream",
     "text": [
      "[{'nome': 'Super Mario', 'videogame': 'Super Nintendo', 'ano': 1990}, {'nome': 'Zelda Ocarina of Time', 'videogame': 'Nintendo 64', 'ano': 1998}, {'nome': 'Pokemon Yellow', 'videogame': 'Game Boy', 'ano': 1999}]\n"
     ]
    }
   ],
   "execution_count": 61
  },
  {
   "metadata": {
    "ExecuteTime": {
     "end_time": "2025-05-14T12:55:52.342488Z",
     "start_time": "2025-05-14T12:55:36.802464Z"
    }
   },
   "cell_type": "code",
   "source": [
    "game = {}\n",
    "games = []\n",
    "\n",
    "for i in range(3):\n",
    "    game['nome'] = input('Qual nome do jogo?')\n",
    "    game['videogame'] = input('Para qual video-game ele foi lançado?')\n",
    "    game['ano'] = int(input('Qual ano de lançamento do jogo?'))\n",
    "    games.append(game.copy()) # copiando os dados de game para dentro de games.\n",
    "\n",
    "print('-' * 20)\n",
    "for jogos in games:\n",
    "    for chave, valor in jogos.items():\n",
    "        print(f'O campo {chave} tem o valor {valor}')"
   ],
   "id": "ea1faf8be2bf71e7",
   "outputs": [
    {
     "name": "stdout",
     "output_type": "stream",
     "text": [
      "--------------------\n",
      "O campo nome tem o valor adadada\n",
      "O campo videogame tem o valor adsadadgdsd\n",
      "O campo ano tem o valor dsgar\n",
      "O campo nome tem o valor agaga\\df\n",
      "O campo videogame tem o valor agrfdsad\n",
      "O campo ano tem o valor agasdfgas\n",
      "O campo nome tem o valor gasgsaed\n",
      "O campo videogame tem o valor agdea\n",
      "O campo ano tem o valor gaedad\n"
     ]
    }
   ],
   "execution_count": 63
  },
  {
   "metadata": {},
   "cell_type": "markdown",
   "source": "Dicionários com listas",
   "id": "83bb0573594d05d"
  },
  {
   "metadata": {
    "ExecuteTime": {
     "end_time": "2025-05-14T13:03:56.347344Z",
     "start_time": "2025-05-14T13:03:56.343495Z"
    }
   },
   "cell_type": "code",
   "source": [
    "games = {'nome':['Super Mario', 'Zelda Ocarina of Time', 'Pokemon Yellow'],\n",
    "         'videogame':['Game Boy', 'Nintendo 64', 'Super Nintendo'],\n",
    "         'ano':[1990,1998,1999]}\n",
    "\n",
    "print(games)"
   ],
   "id": "e397018cc6adb3a5",
   "outputs": [
    {
     "name": "stdout",
     "output_type": "stream",
     "text": [
      "{'nome': ['Super Mario', 'Zelda Ocarina of Time', 'Pokemon Yellow'], 'videogame': ['Game Boy', 'Nintendo 64', 'Super Nintendo'], 'ano': [1990, 1998, 1999]}\n"
     ]
    }
   ],
   "execution_count": 64
  },
  {
   "metadata": {},
   "cell_type": "code",
   "outputs": [],
   "execution_count": null,
   "source": [
    "games = {'nome': [], 'videogame': [], 'ano': []}\n",
    "\n",
    "for i in range(3):\n",
    "    nome = input('Qual nome do jogo?')\n",
    "    videogame = input('Qual video-game do jogo?')\n",
    "    ano = int(input('Qual ano do jogo?'))\n",
    "    games['nome'].append(nome)\n",
    "    games['videogame'].append(videogame)\n",
    "    games['ano'].append(ano)\n",
    "\n",
    "print('-' * 20)\n",
    "print(games)"
   ],
   "id": "791464873e77092c"
  },
  {
   "metadata": {},
   "cell_type": "markdown",
   "source": "# Trabalhando com métodos em strings",
   "id": "4db007ec58653822"
  },
  {
   "metadata": {},
   "cell_type": "code",
   "source": [
    "s1 = 'Algoritmos'\n",
    "\n",
    "print(s1)\n",
    "s1[0] = 'a'"
   ],
   "id": "c38d3da6b2ed71d3",
   "outputs": [],
   "execution_count": null
  },
  {
   "metadata": {
    "ExecuteTime": {
     "end_time": "2025-05-14T13:13:04.828824Z",
     "start_time": "2025-05-14T13:13:04.820452Z"
    }
   },
   "cell_type": "code",
   "source": [
    "s1 = list('Algoritmos')\n",
    "\n",
    "print(s1) #print separado\n",
    "print(''.join(s1)) #print agrupado"
   ],
   "id": "f9ad80c2ade500ae",
   "outputs": [
    {
     "name": "stdout",
     "output_type": "stream",
     "text": [
      "['A', 'l', 'g', 'o', 'r', 'i', 't', 'm', 'o', 's']\n",
      "Algoritmos\n"
     ]
    }
   ],
   "execution_count": 68
  },
  {
   "metadata": {
    "ExecuteTime": {
     "end_time": "2025-05-14T13:14:09.728843Z",
     "start_time": "2025-05-14T13:14:09.725041Z"
    }
   },
   "cell_type": "code",
   "source": [
    "s1 = list('Algoritmos')\n",
    "\n",
    "s1[0] = 'a'\n",
    "\n",
    "print(s1)\n",
    "print(''.join(s1))"
   ],
   "id": "2dbee2b5a9229fc4",
   "outputs": [
    {
     "name": "stdout",
     "output_type": "stream",
     "text": [
      "['a', 'l', 'g', 'o', 'r', 'i', 't', 'm', 'o', 's']\n",
      "algoritmos\n"
     ]
    }
   ],
   "execution_count": 72
  },
  {
   "metadata": {},
   "cell_type": "markdown",
   "source": "Verificando caracteres",
   "id": "f15634edd453b0d4"
  },
  {
   "metadata": {
    "ExecuteTime": {
     "end_time": "2025-05-14T13:17:50.151748Z",
     "start_time": "2025-05-14T13:17:50.146372Z"
    }
   },
   "cell_type": "code",
   "source": [
    "s1 = 'Lógica de Programação e Algoritmos'\n",
    "\n",
    "s1.startswith('Lógica')"
   ],
   "id": "dca2d020fd2585f6",
   "outputs": [
    {
     "data": {
      "text/plain": [
       "True"
      ]
     },
     "execution_count": 73,
     "metadata": {},
     "output_type": "execute_result"
    }
   ],
   "execution_count": 73
  },
  {
   "metadata": {
    "ExecuteTime": {
     "end_time": "2025-05-14T13:18:22.414359Z",
     "start_time": "2025-05-14T13:18:22.410540Z"
    }
   },
   "cell_type": "code",
   "source": [
    "s1 = 'Lógica de Programação e Algoritmos'\n",
    "\n",
    "s1.endswith('Algoritmos')"
   ],
   "id": "80d3e5d772d0537",
   "outputs": [
    {
     "data": {
      "text/plain": [
       "True"
      ]
     },
     "execution_count": 74,
     "metadata": {},
     "output_type": "execute_result"
    }
   ],
   "execution_count": 74
  },
  {
   "metadata": {
    "ExecuteTime": {
     "end_time": "2025-05-14T13:18:41.669957Z",
     "start_time": "2025-05-14T13:18:41.665561Z"
    }
   },
   "cell_type": "code",
   "source": [
    "s1 = 'Lógica de Programação e Algoritmos'\n",
    "\n",
    "s1.endswith('algoritmos')"
   ],
   "id": "c6779c8ba671274c",
   "outputs": [
    {
     "data": {
      "text/plain": [
       "False"
      ]
     },
     "execution_count": 75,
     "metadata": {},
     "output_type": "execute_result"
    }
   ],
   "execution_count": 75
  },
  {
   "metadata": {
    "ExecuteTime": {
     "end_time": "2025-05-14T13:19:01.415969Z",
     "start_time": "2025-05-14T13:19:01.411361Z"
    }
   },
   "cell_type": "code",
   "source": [
    "s1 = 'Lógica de Programação e Algoritmos'\n",
    "\n",
    "s1.lower().endswith('algoritmos')"
   ],
   "id": "354fb5906e0b611",
   "outputs": [
    {
     "data": {
      "text/plain": [
       "True"
      ]
     },
     "execution_count": 76,
     "metadata": {},
     "output_type": "execute_result"
    }
   ],
   "execution_count": 76
  },
  {
   "metadata": {
    "ExecuteTime": {
     "end_time": "2025-05-14T13:19:45.773951Z",
     "start_time": "2025-05-14T13:19:45.770934Z"
    }
   },
   "cell_type": "code",
   "source": [
    "s1 = 'Lógica de Programação e Algoritmos'\n",
    "\n",
    "print(s1.lower())\n",
    "print(s1.upper())"
   ],
   "id": "58bccdd75520ee9e",
   "outputs": [
    {
     "name": "stdout",
     "output_type": "stream",
     "text": [
      "lógica de programação e algoritmos\n",
      "LÓGICA DE PROGRAMAÇÃO E ALGORITMOS\n"
     ]
    }
   ],
   "execution_count": 77
  },
  {
   "metadata": {},
   "cell_type": "markdown",
   "source": "Contando caracteres",
   "id": "6efd82388c01db3d"
  },
  {
   "metadata": {
    "ExecuteTime": {
     "end_time": "2025-05-14T13:21:26.133831Z",
     "start_time": "2025-05-14T13:21:26.129872Z"
    }
   },
   "cell_type": "code",
   "source": [
    "s1 = 'Lógica de Programação e Algoritmos'\n",
    "\n",
    "s1.count('a') # não contou acentuação e maiusculo"
   ],
   "id": "10c00ad00f0e7f9",
   "outputs": [
    {
     "data": {
      "text/plain": [
       "3"
      ]
     },
     "execution_count": 78,
     "metadata": {},
     "output_type": "execute_result"
    }
   ],
   "execution_count": 78
  },
  {
   "metadata": {
    "ExecuteTime": {
     "end_time": "2025-05-14T13:22:30.158479Z",
     "start_time": "2025-05-14T13:22:30.155054Z"
    }
   },
   "cell_type": "code",
   "source": [
    "s1 = 'Lógica de Programação e Algoritmos'\n",
    "\n",
    "s1.lower().count('a')"
   ],
   "id": "56d391649312b12e",
   "outputs": [
    {
     "data": {
      "text/plain": [
       "4"
      ]
     },
     "execution_count": 79,
     "metadata": {},
     "output_type": "execute_result"
    }
   ],
   "execution_count": 79
  },
  {
   "metadata": {
    "ExecuteTime": {
     "end_time": "2025-05-14T13:42:54.684676Z",
     "start_time": "2025-05-14T13:42:54.680815Z"
    }
   },
   "cell_type": "code",
   "source": [
    "s1 = 'Um mafagafinho, dois mafagafinhos, três mafagafinhos'\n",
    "\n",
    "s1.lower().count('mafagafinho')"
   ],
   "id": "18cdc8e5947d28ff",
   "outputs": [
    {
     "data": {
      "text/plain": [
       "3"
      ]
     },
     "execution_count": 82,
     "metadata": {},
     "output_type": "execute_result"
    }
   ],
   "execution_count": 82
  },
  {
   "metadata": {},
   "cell_type": "markdown",
   "source": "Quebrando strings",
   "id": "e0467ebc36a6fa7e"
  },
  {
   "metadata": {
    "ExecuteTime": {
     "end_time": "2025-05-14T13:41:45.700364Z",
     "start_time": "2025-05-14T13:41:45.695573Z"
    }
   },
   "cell_type": "code",
   "source": [
    "s1 = 'Um mafagafinho, dois mafagafinhos, três mafagafinhos'\n",
    "s1.split(' ')"
   ],
   "id": "e7d8287f0d952ecb",
   "outputs": [
    {
     "data": {
      "text/plain": [
       "['Um', 'mafagafinho,', 'dois', 'mafagafinhos,', 'três', 'mafagafinhos']"
      ]
     },
     "execution_count": 80,
     "metadata": {},
     "output_type": "execute_result"
    }
   ],
   "execution_count": 80
  },
  {
   "metadata": {},
   "cell_type": "markdown",
   "source": "Substiruindo strings",
   "id": "dacc3eeb36dbfffc"
  },
  {
   "metadata": {
    "ExecuteTime": {
     "end_time": "2025-05-14T13:42:46.960103Z",
     "start_time": "2025-05-14T13:42:46.955370Z"
    }
   },
   "cell_type": "code",
   "source": [
    "s1 = 'Um mafagafinho, dois mafagafinhos, três mafagafinhos'\n",
    "\n",
    "s1.replace('mafagafinho', 'gatinho')"
   ],
   "id": "b38bd0b0b02e4dab",
   "outputs": [
    {
     "data": {
      "text/plain": [
       "'Um gatinho, dois gatinhos, três gatinhos'"
      ]
     },
     "execution_count": 81,
     "metadata": {},
     "output_type": "execute_result"
    }
   ],
   "execution_count": 81
  },
  {
   "metadata": {
    "ExecuteTime": {
     "end_time": "2025-05-14T13:43:10.114187Z",
     "start_time": "2025-05-14T13:43:10.109777Z"
    }
   },
   "cell_type": "code",
   "source": [
    "s1 = 'Um mafagafinho, dois mafagafinhos, três mafagafinhos'\n",
    "\n",
    "s1.replace('mafagafinho', 'gatinho',1)"
   ],
   "id": "9b615a9f4543ba6f",
   "outputs": [
    {
     "data": {
      "text/plain": [
       "'Um gatinho, dois mafagafinhos, três mafagafinhos'"
      ]
     },
     "execution_count": 83,
     "metadata": {},
     "output_type": "execute_result"
    }
   ],
   "execution_count": 83
  },
  {
   "metadata": {},
   "cell_type": "markdown",
   "source": "Validando tipos de dados",
   "id": "b1f95fdcdb032123"
  },
  {
   "metadata": {
    "ExecuteTime": {
     "end_time": "2025-05-14T13:47:38.492450Z",
     "start_time": "2025-05-14T13:47:38.488966Z"
    }
   },
   "cell_type": "code",
   "source": [
    "s1 = 'Lógica de Programação e Algoritmos'\n",
    "s2 = '42'"
   ],
   "id": "fd2e116f0501ea40",
   "outputs": [],
   "execution_count": 84
  },
  {
   "metadata": {
    "ExecuteTime": {
     "end_time": "2025-05-14T13:47:39.435367Z",
     "start_time": "2025-05-14T13:47:39.432313Z"
    }
   },
   "cell_type": "code",
   "source": [
    "print(s1.isalnum())\n",
    "print(s2.isalnum())"
   ],
   "id": "cdef6bd669734e4f",
   "outputs": [
    {
     "name": "stdout",
     "output_type": "stream",
     "text": [
      "False\n",
      "True\n"
     ]
    }
   ],
   "execution_count": 85
  },
  {
   "metadata": {
    "ExecuteTime": {
     "end_time": "2025-05-14T13:48:03.361580Z",
     "start_time": "2025-05-14T13:48:03.358055Z"
    }
   },
   "cell_type": "code",
   "source": [
    "print(s1.isalpha())\n",
    "print(s2.isalpha())"
   ],
   "id": "565df0f2f6c6d8b6",
   "outputs": [
    {
     "name": "stdout",
     "output_type": "stream",
     "text": [
      "False\n",
      "False\n"
     ]
    }
   ],
   "execution_count": 86
  },
  {
   "metadata": {
    "ExecuteTime": {
     "end_time": "2025-05-14T13:48:30.150004Z",
     "start_time": "2025-05-14T13:48:30.146619Z"
    }
   },
   "cell_type": "code",
   "source": [
    "s1 = 'LógicadeProgramaçãoeAlgoritmos'\n",
    "print(s1.isalpha())"
   ],
   "id": "50adf42f057e0687",
   "outputs": [
    {
     "name": "stdout",
     "output_type": "stream",
     "text": [
      "True\n"
     ]
    }
   ],
   "execution_count": 87
  }
 ],
 "metadata": {
  "kernelspec": {
   "display_name": "Python 3",
   "language": "python",
   "name": "python3"
  },
  "language_info": {
   "codemirror_mode": {
    "name": "ipython",
    "version": 2
   },
   "file_extension": ".py",
   "mimetype": "text/x-python",
   "name": "python",
   "nbconvert_exporter": "python",
   "pygments_lexer": "ipython2",
   "version": "2.7.6"
  }
 },
 "nbformat": 4,
 "nbformat_minor": 5
}
