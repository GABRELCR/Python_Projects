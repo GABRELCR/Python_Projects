{
 "cells": [
  {
   "metadata": {},
   "cell_type": "markdown",
   "source": "# Funções",
   "id": "43aabb9a5f65dedc"
  },
  {
   "metadata": {},
   "cell_type": "markdown",
   "source": "Nossa primeira função",
   "id": "14394cb0b70b7da5"
  },
  {
   "metadata": {
    "ExecuteTime": {
     "end_time": "2025-05-13T12:13:13.676137Z",
     "start_time": "2025-05-13T12:13:13.672324Z"
    }
   },
   "cell_type": "code",
   "source": [
    "from operator import truediv\n",
    "\n",
    "print('|', '_' * 10, '|')\n",
    "print('|', '_' * 10, '|')\n",
    "print('     MENU')\n",
    "print('|', '_' * 10, '|')\n",
    "print('|', '_' * 10, '|')"
   ],
   "id": "initial_id",
   "outputs": [
    {
     "name": "stdout",
     "output_type": "stream",
     "text": [
      "| __________ |\n",
      "| __________ |\n",
      "     MENU\n",
      "| __________ |\n",
      "| __________ |\n"
     ]
    }
   ],
   "execution_count": 3
  },
  {
   "metadata": {
    "ExecuteTime": {
     "end_time": "2025-05-13T12:16:12.612207Z",
     "start_time": "2025-05-13T12:16:12.608476Z"
    }
   },
   "cell_type": "code",
   "source": [
    "def realce ():\n",
    "    #corpo da função\n",
    "    print('|', '_' * 10, '|')\n",
    "    print('|', '_' * 10, '|')"
   ],
   "id": "ab39156cc4988cd8",
   "outputs": [],
   "execution_count": 4
  },
  {
   "metadata": {
    "ExecuteTime": {
     "end_time": "2025-05-13T12:20:43.757800Z",
     "start_time": "2025-05-13T12:20:43.754418Z"
    }
   },
   "cell_type": "code",
   "source": [
    "#programa principal\n",
    "realce()\n",
    "print('     MENU')\n",
    "realce()"
   ],
   "id": "3357be7a28bacb49",
   "outputs": [
    {
     "name": "stdout",
     "output_type": "stream",
     "text": [
      "| __________ |\n",
      "| __________ |\n",
      "     MENU\n",
      "| __________ |\n",
      "| __________ |\n"
     ]
    }
   ],
   "execution_count": 6
  },
  {
   "metadata": {},
   "cell_type": "markdown",
   "source": "Parâmetros em funções",
   "id": "94bd82c98b4b858e"
  },
  {
   "metadata": {
    "ExecuteTime": {
     "end_time": "2025-05-13T12:31:35.149446Z",
     "start_time": "2025-05-13T12:31:35.146406Z"
    }
   },
   "cell_type": "code",
   "source": [
    "def realce (s1):\n",
    "    #corpo da função\n",
    "    print('|', '_' * 10, '|')\n",
    "    print('|', '_' * 10, '|')\n",
    "    print(s1)\n",
    "    print('|', '_' * 10, '|')\n",
    "    print('|', '_' * 10, '|')"
   ],
   "id": "ce2eb218684a586c",
   "outputs": [],
   "execution_count": 9
  },
  {
   "metadata": {
    "ExecuteTime": {
     "end_time": "2025-05-13T12:32:38.790004Z",
     "start_time": "2025-05-13T12:32:38.786299Z"
    }
   },
   "cell_type": "code",
   "source": [
    "#programa principal\n",
    "realce('     Amor')"
   ],
   "id": "f436fa409f699fb4",
   "outputs": [
    {
     "name": "stdout",
     "output_type": "stream",
     "text": [
      "| __________ |\n",
      "| __________ |\n",
      "     Amor\n",
      "| __________ |\n",
      "| __________ |\n"
     ]
    }
   ],
   "execution_count": 11
  },
  {
   "metadata": {
    "ExecuteTime": {
     "end_time": "2025-05-13T12:34:39.929450Z",
     "start_time": "2025-05-13T12:34:39.926694Z"
    }
   },
   "cell_type": "code",
   "source": [
    "def sub2(x, y):\n",
    "    res = float(x - y)\n",
    "    print(res)"
   ],
   "id": "51bf666063411d18",
   "outputs": [],
   "execution_count": 14
  },
  {
   "metadata": {
    "ExecuteTime": {
     "end_time": "2025-05-13T12:35:30.580037Z",
     "start_time": "2025-05-13T12:35:30.577156Z"
    }
   },
   "cell_type": "code",
   "source": [
    "#programa principal\n",
    "sub2(5, 7)\n",
    "sub2(7, 5)\n",
    "sub2(y=7, x=5)"
   ],
   "id": "8c05cc54fc77e9a",
   "outputs": [
    {
     "name": "stdout",
     "output_type": "stream",
     "text": [
      "-2.0\n",
      "2.0\n",
      "-2.0\n"
     ]
    }
   ],
   "execution_count": 17
  },
  {
   "metadata": {},
   "cell_type": "markdown",
   "source": "Parâmetros opcionais",
   "id": "8861908d3f510385"
  },
  {
   "metadata": {
    "ExecuteTime": {
     "end_time": "2025-05-13T12:45:18.079537Z",
     "start_time": "2025-05-13T12:45:18.076889Z"
    }
   },
   "cell_type": "code",
   "source": [
    "def soma3(x, y, z):\n",
    "    res = x + y + z\n",
    "    print(res)"
   ],
   "id": "4d6566757a798962",
   "outputs": [],
   "execution_count": 20
  },
  {
   "metadata": {
    "ExecuteTime": {
     "end_time": "2025-05-13T12:45:23.828982Z",
     "start_time": "2025-05-13T12:45:23.826197Z"
    }
   },
   "cell_type": "code",
   "source": [
    "def soma3(x=0, y=0, z=0):\n",
    "    res = x + y + z\n",
    "    print(res)"
   ],
   "id": "31b1a460e1ac9bfe",
   "outputs": [],
   "execution_count": 23
  },
  {
   "metadata": {
    "ExecuteTime": {
     "end_time": "2025-05-13T14:05:13.437062Z",
     "start_time": "2025-05-13T14:05:13.431962Z"
    }
   },
   "cell_type": "code",
   "source": [
    "soma3(1, 2, 3)\n",
    "soma3(1, 2) #z foi omitido\n",
    "soma3(1) #y e z foram omitidos\n",
    "soma3() #x, y e z foram omitidos"
   ],
   "id": "b1e52076927e47c1",
   "outputs": [
    {
     "data": {
      "text/plain": [
       "0"
      ]
     },
     "execution_count": 49,
     "metadata": {},
     "output_type": "execute_result"
    }
   ],
   "execution_count": 49
  },
  {
   "metadata": {},
   "cell_type": "markdown",
   "source": "# Exercicios",
   "id": "b50938857404f4a5"
  },
  {
   "metadata": {
    "ExecuteTime": {
     "end_time": "2025-05-13T13:03:15.524281Z",
     "start_time": "2025-05-13T13:03:14.228197Z"
    }
   },
   "cell_type": "code",
   "source": [
    "def borda(s1):\n",
    "    tam = len(s1)\n",
    "    # só imprime caso exista algum caractere\n",
    "    if tam:\n",
    "        print('+', '-' * tam, '+')\n",
    "        print('|', s1, '|')\n",
    "        print('+', '-' * tam, '+')\n",
    "\n",
    "# programa principal\n",
    "frase= input('Insira uma frase: ')\n",
    "borda(frase)"
   ],
   "id": "114786cc36274b2b",
   "outputs": [
    {
     "name": "stdout",
     "output_type": "stream",
     "text": [
      "+ - +\n",
      "| a |\n",
      "+ - +\n"
     ]
    }
   ],
   "execution_count": 32
  },
  {
   "metadata": {},
   "cell_type": "markdown",
   "source": "Escopo de variáveis",
   "id": "5b19730a9e41a5ef"
  },
  {
   "metadata": {},
   "cell_type": "code",
   "source": [
    "def omelete():\n",
    "    ovos = 12 #variável local\n",
    "\n",
    "#Programa principal\n",
    "omelete()\n",
    "print(ovos) #escopo global"
   ],
   "id": "4f3074e3c6a13ce3",
   "outputs": [],
   "execution_count": null
  },
  {
   "metadata": {
    "ExecuteTime": {
     "end_time": "2025-05-13T13:15:01.689735Z",
     "start_time": "2025-05-13T13:15:01.686496Z"
    }
   },
   "cell_type": "code",
   "source": [
    "def omelete():\n",
    "    print(ovos) #escopo local\n",
    "\n",
    "#Programa principal\n",
    "ovos = 12 # variável global\n",
    "omelete()"
   ],
   "id": "932a8689aa873996",
   "outputs": [
    {
     "name": "stdout",
     "output_type": "stream",
     "text": [
      "12\n"
     ]
    }
   ],
   "execution_count": 35
  },
  {
   "metadata": {
    "ExecuteTime": {
     "end_time": "2025-05-13T13:16:59.079399Z",
     "start_time": "2025-05-13T13:16:59.075733Z"
    }
   },
   "cell_type": "code",
   "source": [
    "def omelete():\n",
    "    ovos = 12\n",
    "    bacon ()\n",
    "    print(ovos)\n",
    "\n",
    "def bacon():\n",
    "    ovos = 6\n",
    "\n",
    "# Programa principal\n",
    "omelete()"
   ],
   "id": "438ec41c3a136657",
   "outputs": [
    {
     "name": "stdout",
     "output_type": "stream",
     "text": [
      "12\n"
     ]
    }
   ],
   "execution_count": 36
  },
  {
   "metadata": {
    "ExecuteTime": {
     "end_time": "2025-05-13T13:24:05.698668Z",
     "start_time": "2025-05-13T13:24:05.695193Z"
    }
   },
   "cell_type": "code",
   "source": [
    "def omelete():\n",
    "    ovos = 12 # variável local de omelete\n",
    "    print('Ovos= ', ovos)\n",
    "\n",
    "def bacon():\n",
    "    ovos = 6 # variável local do bacon\n",
    "    print('Ovos= ', ovos)\n",
    "    omelete()\n",
    "    print('Ovos= ', ovos)\n",
    "\n",
    "#Programa principal\n",
    "ovos = 2 # varável global\n",
    "bacon()\n",
    "print('Ovos= ', ovos)"
   ],
   "id": "b8ff0f0165c00dff",
   "outputs": [
    {
     "name": "stdout",
     "output_type": "stream",
     "text": [
      "Ovos=  6\n",
      "Ovos=  12\n",
      "Ovos=  6\n",
      "Ovos=  2\n"
     ]
    }
   ],
   "execution_count": 37
  },
  {
   "metadata": {},
   "cell_type": "markdown",
   "source": "Instrução global",
   "id": "a73161014ab5d2c0"
  },
  {
   "metadata": {
    "ExecuteTime": {
     "end_time": "2025-05-13T13:32:39.207663Z",
     "start_time": "2025-05-13T13:32:38.920809Z"
    }
   },
   "cell_type": "code",
   "source": [
    "def omelete():\n",
    "    global ovos\n",
    "    ovos = 6\n",
    "\n",
    "# Programa principal\n",
    "ovos = 12\n",
    "omelete()\n",
    "print(ovos)"
   ],
   "id": "3292be0e90bd7d37",
   "outputs": [
    {
     "name": "stdout",
     "output_type": "stream",
     "text": [
      "6\n"
     ]
    }
   ],
   "execution_count": 38
  },
  {
   "metadata": {
    "ExecuteTime": {
     "end_time": "2025-05-13T13:43:58.749307Z",
     "start_time": "2025-05-13T13:43:58.745797Z"
    }
   },
   "cell_type": "code",
   "source": [
    "def omelete():\n",
    "    global ovos\n",
    "    ovos = 6\n",
    "    bacon()\n",
    "\n",
    "def bacon():\n",
    "    ovos = 12\n",
    "    pimenta()\n",
    "\n",
    "def pimenta():\n",
    "    print(ovos)\n",
    "\n",
    "# Programa principal\n",
    "ovos = 4\n",
    "omelete()\n",
    "print(ovos)"
   ],
   "id": "334e52a510db4492",
   "outputs": [
    {
     "name": "stdout",
     "output_type": "stream",
     "text": [
      "6\n",
      "6\n"
     ]
    }
   ],
   "execution_count": 40
  },
  {
   "metadata": {},
   "cell_type": "code",
   "source": [
    "def omelete():\n",
    "    # global ovos\n",
    "    print(ovos)\n",
    "    ovos = 6\n",
    "\n",
    "ovos = 12\n",
    "omelete()"
   ],
   "id": "6bcbe7aaf146330a",
   "outputs": [],
   "execution_count": null
  },
  {
   "metadata": {},
   "cell_type": "markdown",
   "source": "Retorno de valores em funções",
   "id": "9bb450286435558f"
  },
  {
   "metadata": {
    "ExecuteTime": {
     "end_time": "2025-05-13T14:05:02.321598Z",
     "start_time": "2025-05-13T14:05:02.319141Z"
    }
   },
   "cell_type": "code",
   "source": [
    "def soma3(x = 0, y = 0, z = 0):\n",
    "    res = x + y + z\n",
    "    return res"
   ],
   "id": "8fff1a441d2891f1",
   "outputs": [],
   "execution_count": 48
  },
  {
   "metadata": {
    "ExecuteTime": {
     "end_time": "2025-05-13T14:04:34.365873Z",
     "start_time": "2025-05-13T14:04:34.363111Z"
    }
   },
   "cell_type": "code",
   "source": [
    "# programa principal\n",
    "retornado = soma3(1, 2, 3)\n",
    "print(retornado)\n",
    "\n",
    "#forma alternativa simplificada\n",
    "print(soma3(2, 2))"
   ],
   "id": "b6057e797cef2ac",
   "outputs": [
    {
     "name": "stdout",
     "output_type": "stream",
     "text": [
      "6\n",
      "4\n"
     ]
    }
   ],
   "execution_count": 45
  },
  {
   "metadata": {
    "ExecuteTime": {
     "end_time": "2025-05-13T14:05:20.681087Z",
     "start_time": "2025-05-13T14:05:20.677057Z"
    }
   },
   "cell_type": "code",
   "source": [
    "# Programa principal\n",
    "retornado1 = soma3(1, 2, 3)\n",
    "retornado2 = soma3(1, 2)\n",
    "retornado3 = soma3()\n",
    "print(f'Somatórios: {retornado1}, {retornado2} e {retornado3}.')"
   ],
   "id": "6f4580a1edbbb255",
   "outputs": [
    {
     "name": "stdout",
     "output_type": "stream",
     "text": [
      "Somatórios: 6, 3 e 0.\n"
     ]
    }
   ],
   "execution_count": 50
  },
  {
   "metadata": {},
   "cell_type": "markdown",
   "source": "# Exercicio",
   "id": "9413e69847980239"
  },
  {
   "metadata": {
    "ExecuteTime": {
     "end_time": "2025-05-13T14:09:15.174309Z",
     "start_time": "2025-05-13T14:09:03.900231Z"
    }
   },
   "cell_type": "code",
   "source": [
    "# Exercicio 1\n",
    "def valida_string(pergunta, min, max):\n",
    "    s1 = input(pergunta)\n",
    "    tam = len(s1)\n",
    "    while ((tam < min) or (tam > max)):\n",
    "        s1 = input(pergunta)\n",
    "        tam = len(s1)\n",
    "    return s1\n",
    "\n",
    "#programa principal\n",
    "x = valida_string('Digite uma string: ', 10 , 30)\n",
    "print('Você digitou a string: {}. \\n Dado Válido. Encerrando o programa...'.format(x))"
   ],
   "id": "4ad46091f21398da",
   "outputs": [
    {
     "name": "stdout",
     "output_type": "stream",
     "text": [
      "Você digitou a string: aaaaaaaaaaa. \n",
      " Dado Válido. Encerrando o programa...\n"
     ]
    }
   ],
   "execution_count": 51
  },
  {
   "metadata": {},
   "cell_type": "markdown",
   "source": "Recursos avançados com funções",
   "id": "14d8cd14aac5f17"
  },
  {
   "metadata": {},
   "cell_type": "code",
   "outputs": [],
   "execution_count": null,
   "source": [
    "# erro de sintaxe\n",
    "while True\n",
    "    print('Olá, mundo!')"
   ],
   "id": "8e377ec62010bcdb"
  },
  {
   "metadata": {},
   "cell_type": "code",
   "source": "print(100 * (2/0))",
   "id": "b0ee5f2db27c394b",
   "outputs": [],
   "execution_count": null
  },
  {
   "metadata": {},
   "cell_type": "code",
   "source": "x = int(input('Por favor digite um numero: '))",
   "id": "61b39cf9c1259c2d",
   "outputs": [],
   "execution_count": null
  },
  {
   "metadata": {
    "ExecuteTime": {
     "end_time": "2025-05-13T14:27:00.648134Z",
     "start_time": "2025-05-13T14:26:54.085955Z"
    }
   },
   "cell_type": "code",
   "source": [
    "while True:\n",
    "    try:\n",
    "        x = int(input('Por favor digite um numero: '))\n",
    "        break\n",
    "    except ValueError:\n",
    "        print('Oops! Número inválido. Tente novamente...')"
   ],
   "id": "2550357efb48c657",
   "outputs": [
    {
     "name": "stdout",
     "output_type": "stream",
     "text": [
      "Oops! Número inválido. Tente novamente...\n"
     ]
    }
   ],
   "execution_count": 54
  },
  {
   "metadata": {
    "ExecuteTime": {
     "end_time": "2025-05-13T14:33:13.698081Z",
     "start_time": "2025-05-13T14:33:06.522939Z"
    }
   },
   "cell_type": "code",
   "source": [
    "i = 1\n",
    "\n",
    "while True:\n",
    "    try:\n",
    "        nome = input('Digite seu nome: ')\n",
    "        ind = int(input('Digite um índice do seu nome digitado: '))\n",
    "        print(nome[ind])\n",
    "        break\n",
    "    except ValueError:\n",
    "        print('Oops! Nome inválido. Tente novamente...')\n",
    "    except IndexError:\n",
    "        print('Oops! Índice inválido. Tente novamente...')\n",
    "    finally:\n",
    "        print(f'Tentativa {i}')\n",
    "        i = i + 1"
   ],
   "id": "41bb2edc7ba96150",
   "outputs": [
    {
     "name": "stdout",
     "output_type": "stream",
     "text": [
      "a\n",
      "Tentativa 0\n"
     ]
    }
   ],
   "execution_count": 57
  },
  {
   "metadata": {
    "ExecuteTime": {
     "end_time": "2025-05-13T14:37:30.033504Z",
     "start_time": "2025-05-13T14:37:27.619226Z"
    }
   },
   "cell_type": "code",
   "source": [
    "def div():\n",
    "    try:\n",
    "        num1 = int(input('Digite um numero: '))\n",
    "        num2 = int(input('Digite outro numero: '))\n",
    "        res = num1 / num2\n",
    "    except ZeroDivisionError:\n",
    "        print('Oops! Erro de divisão por zero...')\n",
    "    except:\n",
    "        print('Algo de errado aconteceu...')\n",
    "    else:\n",
    "        return res\n",
    "    finally:\n",
    "        print('Isto executará sempre!')\n",
    "\n",
    "#programa principal\n",
    "print(div())"
   ],
   "id": "4651593207ddb571",
   "outputs": [
    {
     "name": "stdout",
     "output_type": "stream",
     "text": [
      "Algo de errado aconteceu...\n",
      "Executará sempre!\n",
      "None\n"
     ]
    }
   ],
   "execution_count": 59
  },
  {
   "metadata": {},
   "cell_type": "markdown",
   "source": "Função lambda",
   "id": "56056cf1ac3bcaa5"
  },
  {
   "metadata": {
    "ExecuteTime": {
     "end_time": "2025-05-13T14:41:23.526828Z",
     "start_time": "2025-05-13T14:41:23.523182Z"
    }
   },
   "cell_type": "code",
   "source": [
    "res = lambda x: x*x\n",
    "print(res(3))"
   ],
   "id": "95bfe46d2f67be45",
   "outputs": [
    {
     "name": "stdout",
     "output_type": "stream",
     "text": [
      "9\n"
     ]
    }
   ],
   "execution_count": 61
  },
  {
   "metadata": {
    "ExecuteTime": {
     "end_time": "2025-05-13T14:41:39.015160Z",
     "start_time": "2025-05-13T14:41:39.011972Z"
    }
   },
   "cell_type": "code",
   "source": [
    "soma = lambda x, y: x + y\n",
    "print(soma(3, 5))"
   ],
   "id": "cea50a2f73527acf",
   "outputs": [
    {
     "name": "stdout",
     "output_type": "stream",
     "text": [
      "8\n"
     ]
    }
   ],
   "execution_count": 62
  },
  {
   "metadata": {},
   "cell_type": "markdown",
   "source": "Exercício",
   "id": "c0daeb131bd6e2e8"
  },
  {
   "metadata": {
    "ExecuteTime": {
     "end_time": "2025-05-13T14:42:41.335534Z",
     "start_time": "2025-05-13T14:42:41.332235Z"
    }
   },
   "cell_type": "code",
   "source": [
    "calc = lambda a, b: (a + 5) * b\n",
    "print(calc(5, 10))"
   ],
   "id": "e85982b6ccb9f80f",
   "outputs": [
    {
     "name": "stdout",
     "output_type": "stream",
     "text": [
      "100\n"
     ]
    }
   ],
   "execution_count": 63
  }
 ],
 "metadata": {
  "kernelspec": {
   "display_name": "Python 3",
   "language": "python",
   "name": "python3"
  },
  "language_info": {
   "codemirror_mode": {
    "name": "ipython",
    "version": 2
   },
   "file_extension": ".py",
   "mimetype": "text/x-python",
   "name": "python",
   "nbconvert_exporter": "python",
   "pygments_lexer": "ipython2",
   "version": "2.7.6"
  }
 },
 "nbformat": 4,
 "nbformat_minor": 5
}
