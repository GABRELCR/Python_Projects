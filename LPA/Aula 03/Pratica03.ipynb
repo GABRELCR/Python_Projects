{
 "cells": [
  {
   "metadata": {},
   "cell_type": "markdown",
   "source": "# Expressões booleanas",
   "id": "a8d8ac76fc148357"
  },
  {
   "metadata": {},
   "cell_type": "markdown",
   "source": [
    "Escreva as seguintes expressões booleanas em linguagem Python\n",
    "\n",
    "a) O somatório de 2 com 2 é menor que 4\n",
    "\n",
    "b) O valor 7//3 é igual a 1+1\n",
    "\n",
    "c) A some de 3 elevado ao quadrado com 4 elevado ao quadrado é igual a 25\n",
    "\n",
    "d) A soma de 2,4 e 6 é maior que 12\n",
    "\n",
    "e) 1387 é divisivel por 19\n",
    "\n",
    "f) 31 é par\n",
    "\n",
    "g) O menor valor entre 34,29 e 31 é menor que 30"
   ],
   "id": "711c4c20fc08d7d9"
  },
  {
   "metadata": {
    "ExecuteTime": {
     "end_time": "2025-05-09T12:09:19.202548Z",
     "start_time": "2025-05-09T12:09:19.199614Z"
    }
   },
   "cell_type": "code",
   "source": [
    "if (2+2 < 4):\n",
    "    print('True')"
   ],
   "id": "23c692a4e78a69b",
   "outputs": [],
   "execution_count": 2
  },
  {
   "metadata": {
    "ExecuteTime": {
     "end_time": "2025-05-09T12:09:26.653551Z",
     "start_time": "2025-05-09T12:09:26.650131Z"
    }
   },
   "cell_type": "code",
   "source": [
    "if (7//3 == 1+1):\n",
    "    print('True')"
   ],
   "id": "14887544f09b9cc5",
   "outputs": [
    {
     "name": "stdout",
     "output_type": "stream",
     "text": [
      "True\n"
     ]
    }
   ],
   "execution_count": 3
  },
  {
   "metadata": {
    "ExecuteTime": {
     "end_time": "2025-05-09T12:09:55.801397Z",
     "start_time": "2025-05-09T12:09:55.797853Z"
    }
   },
   "cell_type": "code",
   "source": [
    "if (3**2+4**2 == 25):\n",
    "    print('True')"
   ],
   "id": "6cdbf80f7cae0b78",
   "outputs": [
    {
     "name": "stdout",
     "output_type": "stream",
     "text": [
      "True\n"
     ]
    }
   ],
   "execution_count": 4
  },
  {
   "metadata": {
    "ExecuteTime": {
     "end_time": "2025-05-09T12:10:12.758673Z",
     "start_time": "2025-05-09T12:10:12.755885Z"
    }
   },
   "cell_type": "code",
   "source": [
    "if (2+4+6 > 12):\n",
    "    print('True')"
   ],
   "id": "f3ca155c7574c435",
   "outputs": [],
   "execution_count": 5
  },
  {
   "metadata": {
    "ExecuteTime": {
     "end_time": "2025-05-09T12:12:02.791591Z",
     "start_time": "2025-05-09T12:12:02.787755Z"
    }
   },
   "cell_type": "code",
   "source": [
    "if (1387 % 19 == 0):\n",
    "    print('True')"
   ],
   "id": "66df74fe32158f9a",
   "outputs": [
    {
     "name": "stdout",
     "output_type": "stream",
     "text": [
      "True\n"
     ]
    }
   ],
   "execution_count": 6
  },
  {
   "metadata": {
    "ExecuteTime": {
     "end_time": "2025-05-09T12:12:19.774982Z",
     "start_time": "2025-05-09T12:12:19.772256Z"
    }
   },
   "cell_type": "code",
   "source": [
    "if (31 % 2 == 0):\n",
    "    print('True')"
   ],
   "id": "2667d6ca4216d3c1",
   "outputs": [],
   "execution_count": 7
  },
  {
   "metadata": {
    "ExecuteTime": {
     "end_time": "2025-05-09T12:13:21.517566Z",
     "start_time": "2025-05-09T12:13:21.513743Z"
    }
   },
   "cell_type": "code",
   "source": [
    "if (min(34,29,31) < 30):\n",
    "    print('True')"
   ],
   "id": "49e2d7f836b83290",
   "outputs": [
    {
     "name": "stdout",
     "output_type": "stream",
     "text": [
      "True\n"
     ]
    }
   ],
   "execution_count": 9
  },
  {
   "metadata": {},
   "cell_type": "markdown",
   "source": "# Condicional simples",
   "id": "86d4b7eb4c197723"
  },
  {
   "metadata": {},
   "cell_type": "markdown",
   "source": [
    "Traduza as afirmações a seguir para condicionais em Python\n",
    "\n",
    "a) Se idade é maior que 60, escreva \"Você tem direito a benefícios\"\n",
    "\n",
    "b) Se dano é maior que 10 e escudo é igual a 0, escreva: \"Você está morto!\"\n",
    "\n",
    "c)Se pelo menos uma das varáveis booleanas norte, sul, leste e oeste resultarem em True, escreva: \"Você escapou!\""
   ],
   "id": "3628132972c3a056"
  },
  {
   "metadata": {
    "ExecuteTime": {
     "end_time": "2025-05-09T12:17:12.756933Z",
     "start_time": "2025-05-09T12:17:09.429503Z"
    }
   },
   "cell_type": "code",
   "source": [
    "idade = int(input('Digite sua idade: '))\n",
    "\n",
    "if(idade > 60):\n",
    "    print('Você tem direito aos benefícios')\n",
    "else\n",
    "    print('Você não tem direito aos benefícios')"
   ],
   "id": "5118cf4b6ffd0c2e",
   "outputs": [
    {
     "name": "stdout",
     "output_type": "stream",
     "text": [
      "Você tem direito aos benefícios\n"
     ]
    }
   ],
   "execution_count": 11
  },
  {
   "metadata": {
    "ExecuteTime": {
     "end_time": "2025-05-09T12:20:27.246633Z",
     "start_time": "2025-05-09T12:20:27.242933Z"
    }
   },
   "cell_type": "code",
   "source": [
    "dano = 11\n",
    "escudo = 0\n",
    "\n",
    "if(dano > 10 and escudo == 0):\n",
    "    print('Você morreu')"
   ],
   "id": "78908ad8b0e08269",
   "outputs": [
    {
     "name": "stdout",
     "output_type": "stream",
     "text": [
      "Você morreu\n"
     ]
    }
   ],
   "execution_count": 12
  },
  {
   "metadata": {
    "ExecuteTime": {
     "end_time": "2025-05-09T12:23:37.436240Z",
     "start_time": "2025-05-09T12:23:37.432681Z"
    }
   },
   "cell_type": "code",
   "source": [
    "norte = True\n",
    "sul = False\n",
    "leste = False\n",
    "oeste = False\n",
    "\n",
    "if (norte == True or sul == True or leste == True or oeste == True):\n",
    "    print('Você escapou')"
   ],
   "id": "6b27a6a520c4bd12",
   "outputs": [
    {
     "name": "stdout",
     "output_type": "stream",
     "text": [
      "Você escapou\n"
     ]
    }
   ],
   "execution_count": 14
  },
  {
   "metadata": {},
   "cell_type": "markdown",
   "source": "# Condicional composta",
   "id": "fab7ac2808608e22"
  },
  {
   "metadata": {},
   "cell_type": "markdown",
   "source": [
    "Traduza as afirmações a seguir para condicionais em Python\n",
    "\n",
    "a) Se ano é divisível por 4, escreva \"Pode ser um ano bissexto\". Caso contrário, escreva: \"Definitivamente não é um ano bissexto\"\n",
    "\n",
    "b)Se ambas as variáveis booleanas cima e baixo forem true, escreva: \"Decida-se!\", caso contrário, escreva: \"Você escolheu um caminho\""
   ],
   "id": "c66a5742f593bf5d"
  },
  {
   "metadata": {
    "ExecuteTime": {
     "end_time": "2025-05-09T12:28:37.597588Z",
     "start_time": "2025-05-09T12:28:32.284150Z"
    }
   },
   "cell_type": "code",
   "source": [
    "ano = int(input('Insira o ano: '))\n",
    "if(ano % 4 == 0):\n",
    "    print('Pode ser um ano bissexto')\n",
    "else:\n",
    "    print('Definitivamente não é um ano bissexto')"
   ],
   "id": "eb5693c7e857d8c",
   "outputs": [
    {
     "name": "stdout",
     "output_type": "stream",
     "text": [
      "Pode ser um ano bissexto\n"
     ]
    }
   ],
   "execution_count": 16
  },
  {
   "metadata": {
    "ExecuteTime": {
     "end_time": "2025-05-09T12:31:47.763664Z",
     "start_time": "2025-05-09T12:31:47.760080Z"
    }
   },
   "cell_type": "code",
   "source": [
    "cima = True\n",
    "baixo = False\n",
    "\n",
    "if(cima == True and baixo == True):\n",
    "    print('Decida-se!')\n",
    "else:\n",
    "    print('Você escolheu um caminho')"
   ],
   "id": "e9ec2460c1faf5f6",
   "outputs": [
    {
     "name": "stdout",
     "output_type": "stream",
     "text": [
      "Você escolheu um caminho\n"
     ]
    }
   ],
   "execution_count": 17
  }
 ],
 "metadata": {
  "kernelspec": {
   "display_name": "Python 3",
   "language": "python",
   "name": "python3"
  },
  "language_info": {
   "codemirror_mode": {
    "name": "ipython",
    "version": 2
   },
   "file_extension": ".py",
   "mimetype": "text/x-python",
   "name": "python",
   "nbconvert_exporter": "python",
   "pygments_lexer": "ipython2",
   "version": "2.7.6"
  }
 },
 "nbformat": 4,
 "nbformat_minor": 5
}
