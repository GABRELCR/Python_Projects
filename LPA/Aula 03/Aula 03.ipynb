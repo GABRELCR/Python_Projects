{
 "cells": [
  {
   "metadata": {},
   "cell_type": "markdown",
   "source": "# Algoritmos sequenciais",
   "id": "7ae40d12aa44ef48"
  },
  {
   "metadata": {},
   "cell_type": "markdown",
   "source": "Condicional simples",
   "id": "be239d274fe86bf2"
  },
  {
   "metadata": {
    "ExecuteTime": {
     "end_time": "2025-05-08T13:28:38.430728Z",
     "start_time": "2025-05-08T13:28:36.061975Z"
    }
   },
   "cell_type": "code",
   "source": [
    "x= int(input('Insira um número inteiro para comparar: '))\n",
    "y= int(input('Insira outro número inteiro para comparar: '))\n",
    "\n",
    "if (x > y):\n",
    "    print(f'O número {x} é maior que {y}')\n",
    "    print(f'O número {y} é menor que {x}')\n",
    "\n",
    "# Lê dois valores inteiros e compara eles"
   ],
   "id": "60b48e69dac685b9",
   "outputs": [
    {
     "name": "stdout",
     "output_type": "stream",
     "text": [
      "O número 2 é maior que 1\n",
      "O número 1 é menor que 2\n"
     ]
    }
   ],
   "execution_count": 4
  },
  {
   "metadata": {},
   "cell_type": "code",
   "outputs": [],
   "execution_count": null,
   "source": [
    "x= int(input('Insira um número inteiro para comparar: '))\n",
    "y= int(input('Insira outro número inteiro para comparar: '))\n",
    "\n",
    "if (x > y):\n",
    "    print(f'O número {x} é maior que {y}')\n",
    "    print(f'O número {y} é menor que {x}')\n",
    "if (x < y):\n",
    "    print(f'O número {y} é maior que {x}')\n",
    "    print(f'O número {x} é menor que {y}')\n",
    "\n",
    "# Lê dois valores inteiros e compara eles"
   ],
   "id": "67ccd6f9874359e1"
  },
  {
   "metadata": {},
   "cell_type": "markdown",
   "source": "Condicional composta",
   "id": "6cf65fed89e18735"
  },
  {
   "metadata": {
    "ExecuteTime": {
     "end_time": "2025-05-08T13:34:45.550587Z",
     "start_time": "2025-05-08T13:34:42.076593Z"
    }
   },
   "cell_type": "code",
   "source": [
    "x= int(input('Insira um número inteiro para comparar: '))\n",
    "y= int(input('Insira outro número inteiro para comparar: '))\n",
    "\n",
    "if (x > y):\n",
    "    print('O primeiro valor é maior que o segundo')\n",
    "else:\n",
    "    print('O segundo valor é maior que o primeiro')\n",
    "\n",
    "# Lê dois valores inteiros e compara eles"
   ],
   "id": "3204368dbafedf33",
   "outputs": [
    {
     "name": "stdout",
     "output_type": "stream",
     "text": [
      "O segundo valor é maior que o primeiro\n"
     ]
    }
   ],
   "execution_count": 5
  },
  {
   "metadata": {
    "ExecuteTime": {
     "end_time": "2025-05-08T13:38:40.022196Z",
     "start_time": "2025-05-08T13:38:38.828875Z"
    }
   },
   "cell_type": "code",
   "source": [
    "#par ou ímpar\n",
    "x = int(input('Insira um número inteiro: '))\n",
    "if (x % 2 == 0):\n",
    "    print('o número é par!')\n",
    "else:\n",
    "    print('O número é impar!')"
   ],
   "id": "e465de0b618b2582",
   "outputs": [
    {
     "name": "stdout",
     "output_type": "stream",
     "text": [
      "O número é impar!\n"
     ]
    }
   ],
   "execution_count": 7
  },
  {
   "metadata": {
    "ExecuteTime": {
     "end_time": "2025-05-08T13:40:51.310438Z",
     "start_time": "2025-05-08T13:40:49.373105Z"
    }
   },
   "cell_type": "code",
   "source": [
    "#par ou impar\n",
    "x = int(input('Insira um número inteiro: '))\n",
    "if (x % 2 == 0):\n",
    "    print('o número é par!')\n",
    "if (x % 2 == 1):\n",
    "    print('O número é impar!')"
   ],
   "id": "5dbb2aee9c6831bd",
   "outputs": [
    {
     "name": "stdout",
     "output_type": "stream",
     "text": [
      "o número é par!\n"
     ]
    }
   ],
   "execution_count": 10
  },
  {
   "metadata": {},
   "cell_type": "markdown",
   "source": "Operadores lógicos booleanos",
   "id": "b5977d60d42c940e"
  },
  {
   "metadata": {
    "ExecuteTime": {
     "end_time": "2025-05-09T11:00:38.351147Z",
     "start_time": "2025-05-09T11:00:38.347139Z"
    }
   },
   "cell_type": "code",
   "source": [
    "#not\n",
    "x = True\n",
    "y = False\n",
    "print(x)\n",
    "print(y)\n",
    "print(not x)\n",
    "print(not y)"
   ],
   "id": "522994f6ca8acc6f",
   "outputs": [
    {
     "name": "stdout",
     "output_type": "stream",
     "text": [
      "True\n",
      "False\n",
      "False\n",
      "True\n"
     ]
    }
   ],
   "execution_count": 13
  },
  {
   "metadata": {
    "ExecuteTime": {
     "end_time": "2025-05-09T11:02:33.968403Z",
     "start_time": "2025-05-09T11:02:33.964038Z"
    }
   },
   "cell_type": "code",
   "source": [
    "#and\n",
    "x = False\n",
    "y = True\n",
    "z = True\n",
    "print(x and y)\n",
    "print(y and z)"
   ],
   "id": "c6c7ebb14cc38dda",
   "outputs": [
    {
     "name": "stdout",
     "output_type": "stream",
     "text": [
      "False\n",
      "True\n"
     ]
    }
   ],
   "execution_count": 16
  },
  {
   "metadata": {
    "ExecuteTime": {
     "end_time": "2025-05-09T11:05:28.578819Z",
     "start_time": "2025-05-09T11:05:28.574142Z"
    }
   },
   "cell_type": "code",
   "source": [
    "x = False\n",
    "y = False\n",
    "z = True\n",
    "print(x or y)\n",
    "print(y or z)\n",
    "#or"
   ],
   "id": "bee34b6c7d7bf452",
   "outputs": [
    {
     "name": "stdout",
     "output_type": "stream",
     "text": [
      "False\n",
      "True\n"
     ]
    }
   ],
   "execution_count": 17
  },
  {
   "metadata": {},
   "cell_type": "markdown",
   "source": "Expressões lógicas/booleanas",
   "id": "8ac7bb4f569b8a04"
  },
  {
   "metadata": {
    "ExecuteTime": {
     "end_time": "2025-05-09T11:10:21.254318Z",
     "start_time": "2025-05-09T11:10:21.251245Z"
    }
   },
   "cell_type": "code",
   "source": [
    "x = 10\n",
    "y = 1\n",
    "res = not x > y\n",
    "print(res)"
   ],
   "id": "ba2a28e53caa279f",
   "outputs": [
    {
     "name": "stdout",
     "output_type": "stream",
     "text": [
      "False\n"
     ]
    }
   ],
   "execution_count": 18
  },
  {
   "metadata": {
    "ExecuteTime": {
     "end_time": "2025-05-09T11:12:42.167780Z",
     "start_time": "2025-05-09T11:12:42.163343Z"
    }
   },
   "cell_type": "code",
   "source": [
    "x = 10\n",
    "y = 1\n",
    "z = 5.5\n",
    "res = (x > y) and (z == y) # True and False\n",
    "print(res)"
   ],
   "id": "315c1b595763e33a",
   "outputs": [
    {
     "name": "stdout",
     "output_type": "stream",
     "text": [
      "False\n"
     ]
    }
   ],
   "execution_count": 19
  },
  {
   "metadata": {
    "ExecuteTime": {
     "end_time": "2025-05-09T11:14:29.307233Z",
     "start_time": "2025-05-09T11:14:29.303627Z"
    }
   },
   "cell_type": "code",
   "source": [
    "x = 10\n",
    "y = 1\n",
    "z = 5.5\n",
    "res = x > y or not z == y and y != y + z/x #1.55\n",
    "# res =  True or not False and True\n",
    "#res = True or True and True\n",
    "#res = True or True\n",
    "#res = True\n",
    "print(res)"
   ],
   "id": "37e54c2aed4b01ab",
   "outputs": [
    {
     "name": "stdout",
     "output_type": "stream",
     "text": [
      "True\n"
     ]
    }
   ],
   "execution_count": 21
  },
  {
   "metadata": {},
   "cell_type": "markdown",
   "source": "# Exercicios",
   "id": "13c59d40d4e593ea"
  },
  {
   "metadata": {},
   "cell_type": "markdown",
   "source": "Um aluno, para passar de ano, precisa ser aprovado em todas as matérias que está cursando. Assuma que a média para aprovação é a partir de 7 e que o aluno cursa 3 matérias, somente. Escreva um algoritmo que leia a nota final do aluno em cada matéria e informe, na tela, se ele passou de ano ou não (Menezes, 2019, p.60)",
   "id": "56c69fff49e87e61"
  },
  {
   "metadata": {
    "ExecuteTime": {
     "end_time": "2025-05-09T11:27:01.321334Z",
     "start_time": "2025-05-09T11:26:57.402941Z"
    }
   },
   "cell_type": "code",
   "source": [
    "m1 = float(input('Digite a nota da 1ª matéria: '))\n",
    "m2 = float(input('Digite a nota da 2ª matéria: '))\n",
    "m3 = float(input('Digite a nota da 3ª matéria: '))\n",
    "\n",
    "if m1>=7 and m2>=7 and m3>=7:\n",
    "    print('Aluno aprovado')\n",
    "else:\n",
    "    print('Aluno reprovado')"
   ],
   "id": "1b41dcb4645c16dc",
   "outputs": [
    {
     "name": "stdout",
     "output_type": "stream",
     "text": [
      "Aprovado\n"
     ]
    }
   ],
   "execution_count": 22
  },
  {
   "metadata": {},
   "cell_type": "markdown",
   "source": "Condicionais aninhadas",
   "id": "df683e2b1eb930ff"
  },
  {
   "metadata": {},
   "cell_type": "markdown",
   "source": "# Exercício",
   "id": "19708554f104dd7d"
  },
  {
   "metadata": {},
   "cell_type": "markdown",
   "source": "Escreva um algoritmo em Python em que o usuário escolhe se quer comprar maçãs, laranjas ou bananas. Deverá ser apresentado na tela um menu com as opções 1 para maçã, 2 para laranja e 3 para banana. Após escolhida a fruta, deve-se digitar qauntas unidades se quer comprar. O algoritmo deve calcular o preço total a pagar do produto escolhido e mostrá-lo na tela. Considere que uma maçã custa RS2,30, uma laranja, RS3,60, e uma banana, RS1,85",
   "id": "3b09eb94bc785caa"
  },
  {
   "metadata": {
    "ExecuteTime": {
     "end_time": "2025-05-09T11:43:52.611959Z",
     "start_time": "2025-05-09T11:43:48.783042Z"
    }
   },
   "cell_type": "code",
   "source": [
    "print('Escolha o que deseja comprar: ')\n",
    "print('1 - Maçã')\n",
    "print('2 - Laranja')\n",
    "print('3 - Banana')\n",
    "\n",
    "produto = int(input('Qual sua escolha? '))\n",
    "qtd = int(input('Quantos produtos deseja comprar? '))\n",
    "\n",
    "if (produto == 1): #Maçã\n",
    "    pagar = qtd * 2.3\n",
    "    print(f'Você comprou {qtd} maçãs. Total a ser pago: R$ {pagar:.2f}')\n",
    "else:\n",
    "    if (produto == 2): #Laranja\n",
    "        pagar = qtd * 3.6\n",
    "        print(f'Você comprou {qtd} laranjas. Total a ser pago: R$ {pagar:.2f}')\n",
    "    else:\n",
    "        if (produto == 3): #Banana\n",
    "            pagar = qtd * 1.85\n",
    "            print(f'Você comprou {qtd} bananas. Total a ser pago: R$ {pagar:.2f}')\n",
    "        else:\n",
    "            print(f'Produto {produto} é inexistente!')"
   ],
   "id": "d3fbd59d025d4f66",
   "outputs": [
    {
     "name": "stdout",
     "output_type": "stream",
     "text": [
      "Escolha o que deseja comprar: \n",
      "1 - Maçã\n",
      "2 - Laranja\n",
      "3 - Banana\n",
      "Você comprou 5 laranjas. Total a ser pago: R$ 18.00\n"
     ]
    }
   ],
   "execution_count": 27
  },
  {
   "metadata": {},
   "cell_type": "markdown",
   "source": "Condicional de multipla escolha (elif)",
   "id": "af911aae48505a51"
  },
  {
   "metadata": {
    "ExecuteTime": {
     "end_time": "2025-05-09T11:51:50.699637Z",
     "start_time": "2025-05-09T11:51:46.356013Z"
    }
   },
   "cell_type": "code",
   "source": [
    "print('Escolha o que deseja comprar: ')\n",
    "print('1 - Maçã')\n",
    "print('2 - Laranja')\n",
    "print('3 - Banana')\n",
    "\n",
    "produto = int(input('Qual sua escolha? '))\n",
    "qtd = int(input('Quantos produtos deseja comprar? '))\n",
    "\n",
    "if (produto == 1): #Maçã\n",
    "    pagar = qtd * 2.3\n",
    "    print(f'Você comprou {qtd} maçãs. Total a ser pago: R$ {pagar:.2f}')\n",
    "elif (produto == 2): #Laranja\n",
    "    pagar = qtd * 3.6\n",
    "    print(f'Você comprou {qtd} laranjas. Total a ser pago: R$ {pagar:.2f}')\n",
    "elif (produto == 3): #Banana\n",
    "    pagar = qtd * 1.85\n",
    "    print(f'Você comprou {qtd} bananas. Total a ser pago: R$ {pagar:.2f}')\n",
    "else:\n",
    "    print(f'Produto {produto} é inexistente!')"
   ],
   "id": "7b7fc16c910c715a",
   "outputs": [
    {
     "name": "stdout",
     "output_type": "stream",
     "text": [
      "Escolha o que deseja comprar: \n",
      "1 - Maçã\n",
      "2 - Laranja\n",
      "3 - Banana\n",
      "Você comprou 5 laranjas. Total a ser pago: R$ 18.00\n"
     ]
    }
   ],
   "execution_count": 29
  },
  {
   "metadata": {},
   "cell_type": "markdown",
   "source": "# Exercicio",
   "id": "65f31c1e3a77a6"
  },
  {
   "metadata": {},
   "cell_type": "markdown",
   "source": "Escreva um algoritmo que leia um nome e uma idade. Caso o nome digitado seja Vinicius, escreva isso na tela : \"Olá, Vinicius\". Caso o usuário digite qualquer outro nome, verifique sua idade. Se for menor que 18 anos, informe que é de menor. Se for maior que 100 anos, informe que esta pessoa possivelmente não existe",
   "id": "f755a2f7fc978d13"
  },
  {
   "metadata": {
    "ExecuteTime": {
     "end_time": "2025-05-09T11:58:31.242618Z",
     "start_time": "2025-05-09T11:58:24.155972Z"
    }
   },
   "cell_type": "code",
   "source": [
    "nome = input('Digite seu nome: ')\n",
    "idade = int(input('Digite sua idade: '))\n",
    "\n",
    "if (nome == 'Vinicius'):\n",
    "    print('Olá, Vinicius!')\n",
    "elif (idade < 18):\n",
    "    print('Você não é o Vinicius! E é de menor!')\n",
    "elif (idade > 100):\n",
    "    print('Diferente de você, o Vinicius não é imortal!')"
   ],
   "id": "a4bd9b9bc3529a8d",
   "outputs": [
    {
     "name": "stdout",
     "output_type": "stream",
     "text": [
      "Você não é o Vinicius! E é de menor!\n"
     ]
    }
   ],
   "execution_count": 31
  }
 ],
 "metadata": {
  "kernelspec": {
   "display_name": "Python 3",
   "language": "python",
   "name": "python3"
  },
  "language_info": {
   "codemirror_mode": {
    "name": "ipython",
    "version": 2
   },
   "file_extension": ".py",
   "mimetype": "text/x-python",
   "name": "python",
   "nbconvert_exporter": "python",
   "pygments_lexer": "ipython2",
   "version": "2.7.6"
  }
 },
 "nbformat": 4,
 "nbformat_minor": 5
}
