{
 "cells": [
  {
   "metadata": {},
   "cell_type": "markdown",
   "source": "# Cíclo de processamento de dados",
   "id": "f8f4a42aeb50a2a3"
  },
  {
   "metadata": {
    "ExecuteTime": {
     "end_time": "2025-05-08T11:20:55.812582Z",
     "start_time": "2025-05-08T11:20:55.756496Z"
    }
   },
   "cell_type": "code",
   "source": "print(\"Hello World!\")",
   "id": "fbc121e30a2defb3",
   "outputs": [
    {
     "name": "stdout",
     "output_type": "stream",
     "text": [
      "Hello World!\n"
     ]
    }
   ],
   "execution_count": 1
  },
  {
   "metadata": {},
   "cell_type": "markdown",
   "source": "Maiuscula e minuscula faz diferenca",
   "id": "5fa7104d856b3dff"
  },
  {
   "metadata": {
    "jupyter": {
     "is_executing": true
    }
   },
   "cell_type": "code",
   "source": "Print('Olá, mundo!')",
   "id": "739c4a88ec45810",
   "outputs": [],
   "execution_count": null
  },
  {
   "metadata": {},
   "cell_type": "markdown",
   "source": "Da para usar aspas unicas e duplas",
   "id": "74ed4b4bb01b5b61"
  },
  {
   "metadata": {
    "ExecuteTime": {
     "end_time": "2025-05-08T11:25:45.578331Z",
     "start_time": "2025-05-08T11:25:45.574524Z"
    }
   },
   "cell_type": "code",
   "source": [
    "print('Olá, mundo!')\n",
    "print(\"Olá, mundo!\")"
   ],
   "id": "539b78ea4dea8253",
   "outputs": [
    {
     "name": "stdout",
     "output_type": "stream",
     "text": [
      "Olá, mundo!\n",
      "Olá, mundo!\n"
     ]
    }
   ],
   "execution_count": 2
  },
  {
   "metadata": {},
   "cell_type": "markdown",
   "source": "Expressoes algebricas sao bem vindas",
   "id": "ab073a3f2e9df190"
  },
  {
   "metadata": {
    "ExecuteTime": {
     "end_time": "2025-05-08T11:25:49.657706Z",
     "start_time": "2025-05-08T11:25:49.653608Z"
    }
   },
   "cell_type": "code",
   "source": "print(2+3)",
   "id": "6338382e2fa2b53a",
   "outputs": [
    {
     "name": "stdout",
     "output_type": "stream",
     "text": [
      "5\n"
     ]
    }
   ],
   "execution_count": 3
  },
  {
   "metadata": {},
   "cell_type": "markdown",
   "source": "Cuidado para nao transformar elas em texto",
   "id": "7ce920872d79714"
  },
  {
   "metadata": {},
   "cell_type": "code",
   "outputs": [],
   "execution_count": null,
   "source": [
    "print('2+3')\n",
    "print('2'+'3')"
   ],
   "id": "21fd7e62a065adce"
  },
  {
   "metadata": {},
   "cell_type": "markdown",
   "source": "Da para separar em blocos",
   "id": "541ef9ec6dccf39d"
  },
  {
   "metadata": {
    "ExecuteTime": {
     "end_time": "2025-05-07T12:29:53.901528Z",
     "start_time": "2025-05-07T12:29:53.897656Z"
    }
   },
   "cell_type": "code",
   "source": [
    "print('Olá,' + 'mundo!')\n",
    "print('Olá,' , 'mundo!')\n",
    "print('Olá, ' + 'mundo!')\n",
    "print('Olá, ' , 'mundo!')"
   ],
   "id": "e4f13da848cdc66b",
   "outputs": [
    {
     "name": "stdout",
     "output_type": "stream",
     "text": [
      "Olá,mundo!\n",
      "Olá, mundo!\n",
      "Olá, mundo!\n",
      "Olá,  mundo!\n"
     ]
    }
   ],
   "execution_count": 4
  },
  {
   "metadata": {},
   "cell_type": "markdown",
   "source": "Da para juntar as expressoes com textos",
   "id": "56117aa60a0995c2"
  },
  {
   "metadata": {
    "ExecuteTime": {
     "end_time": "2025-05-07T12:52:15.657966Z",
     "start_time": "2025-05-07T12:52:15.653611Z"
    }
   },
   "cell_type": "code",
   "source": "print('O resultado da soma de 2+3 é:' , 2+3)",
   "id": "b6e7aebdf3550dbe",
   "outputs": [
    {
     "name": "stdout",
     "output_type": "stream",
     "text": [
      "O resultado da soma de 2+3 é: 5\n"
     ]
    }
   ],
   "execution_count": 5
  },
  {
   "metadata": {},
   "cell_type": "markdown",
   "source": "Cuidado com a ordem!",
   "id": "69556aa650b40467"
  },
  {
   "metadata": {
    "ExecuteTime": {
     "end_time": "2025-05-07T12:54:00.120226Z",
     "start_time": "2025-05-07T12:54:00.116158Z"
    }
   },
   "cell_type": "code",
   "source": "print(10*(5+7)/4)",
   "id": "27ded8238e5c93ce",
   "outputs": [
    {
     "name": "stdout",
     "output_type": "stream",
     "text": [
      "30.0\n"
     ]
    }
   ],
   "execution_count": 10
  },
  {
   "metadata": {
    "ExecuteTime": {
     "end_time": "2025-05-07T12:54:01.446678Z",
     "start_time": "2025-05-07T12:54:01.442983Z"
    }
   },
   "cell_type": "code",
   "source": "print(10*(5+7/4))",
   "id": "9275dc5a4e499aec",
   "outputs": [
    {
     "name": "stdout",
     "output_type": "stream",
     "text": [
      "67.5\n"
     ]
    }
   ],
   "execution_count": 11
  },
  {
   "metadata": {},
   "cell_type": "markdown",
   "source": "divisao que aceitam numeros decimais",
   "id": "7c56ccbef6e2f2a7"
  },
  {
   "metadata": {
    "ExecuteTime": {
     "end_time": "2025-05-07T12:55:02.148155Z",
     "start_time": "2025-05-07T12:55:02.144987Z"
    }
   },
   "cell_type": "code",
   "source": "print(7/5)",
   "id": "491d200cbf3cbded",
   "outputs": [
    {
     "name": "stdout",
     "output_type": "stream",
     "text": [
      "1.4\n"
     ]
    }
   ],
   "execution_count": 16
  },
  {
   "metadata": {},
   "cell_type": "markdown",
   "source": "somente numeros inteiros amigo",
   "id": "b82af4e899e39cb"
  },
  {
   "metadata": {
    "ExecuteTime": {
     "end_time": "2025-05-07T12:55:03.481530Z",
     "start_time": "2025-05-07T12:55:03.476970Z"
    }
   },
   "cell_type": "code",
   "source": "print(7//5)",
   "id": "7e3119a33886d8c2",
   "outputs": [
    {
     "name": "stdout",
     "output_type": "stream",
     "text": [
      "1\n"
     ]
    }
   ],
   "execution_count": 17
  },
  {
   "metadata": {},
   "cell_type": "markdown",
   "source": "pegando o modulo!",
   "id": "b6f9933cb0844306"
  },
  {
   "metadata": {
    "ExecuteTime": {
     "end_time": "2025-05-07T12:55:23.930358Z",
     "start_time": "2025-05-07T12:55:23.926765Z"
    }
   },
   "cell_type": "code",
   "source": "print(7%5)",
   "id": "dd1314db86ca30c4",
   "outputs": [
    {
     "name": "stdout",
     "output_type": "stream",
     "text": [
      "2\n"
     ]
    }
   ],
   "execution_count": 18
  },
  {
   "metadata": {},
   "cell_type": "markdown",
   "source": "perigos exponenciais!",
   "id": "31fd39750704c658"
  },
  {
   "metadata": {
    "ExecuteTime": {
     "end_time": "2025-05-07T12:57:55.269692Z",
     "start_time": "2025-05-07T12:57:55.266582Z"
    }
   },
   "cell_type": "code",
   "source": "print(3**4)",
   "id": "d00d63e9c07bc506",
   "outputs": [
    {
     "name": "stdout",
     "output_type": "stream",
     "text": [
      "81\n"
     ]
    }
   ],
   "execution_count": 20
  },
  {
   "metadata": {},
   "cell_type": "markdown",
   "source": "# Variáveis, dados e seus tipos",
   "id": "83ef61c4df108fff"
  },
  {
   "metadata": {
    "ExecuteTime": {
     "end_time": "2025-05-07T13:30:49.748272Z",
     "start_time": "2025-05-07T13:30:49.743101Z"
    }
   },
   "cell_type": "code",
   "source": [
    "nota_01 = 8.5\n",
    "disciplina = 'Lógica de Programação e Algoritmos'\n",
    "\n",
    "print(nota_01)\n",
    "print(disciplina)"
   ],
   "id": "c0b4fc6d9e6899fc",
   "outputs": [
    {
     "name": "stdout",
     "output_type": "stream",
     "text": [
      "8.5\n",
      "Lógica de Programação e Algoritmos\n"
     ]
    }
   ],
   "execution_count": 31
  },
  {
   "metadata": {
    "ExecuteTime": {
     "end_time": "2025-05-07T13:30:52.621513Z",
     "start_time": "2025-05-07T13:30:52.617461Z"
    }
   },
   "cell_type": "code",
   "source": "print('Disciplina: ', disciplina, '- Nota:' , nota_01)",
   "id": "8753956d39dd5a5c",
   "outputs": [
    {
     "name": "stdout",
     "output_type": "stream",
     "text": [
      "Disciplina:  Lógica de Programação e Algoritmos - Nota: 8.5\n"
     ]
    }
   ],
   "execution_count": 32
  },
  {
   "metadata": {},
   "cell_type": "code",
   "outputs": [],
   "execution_count": null,
   "source": [
    "num_int = int (1)\n",
    "num_dec = float (1.5)"
   ],
   "id": "5be64cd66dc2035"
  },
  {
   "metadata": {},
   "cell_type": "markdown",
   "source": "Variavel logica",
   "id": "7f384551dc663e5c"
  },
  {
   "metadata": {},
   "cell_type": "code",
   "outputs": [],
   "execution_count": null,
   "source": [
    "a = 1 #comentário uhull\n",
    "b = 1"
   ],
   "id": "f2cd30578e909a4b"
  },
  {
   "metadata": {
    "ExecuteTime": {
     "end_time": "2025-05-07T13:52:15.051134Z",
     "start_time": "2025-05-07T13:52:15.047850Z"
    }
   },
   "cell_type": "code",
   "source": [
    "resposta = a == b\n",
    "print(resposta)"
   ],
   "id": "6a48a924aa7c364b",
   "outputs": [
    {
     "name": "stdout",
     "output_type": "stream",
     "text": [
      "True\n"
     ]
    }
   ],
   "execution_count": 37
  },
  {
   "metadata": {
    "ExecuteTime": {
     "end_time": "2025-05-07T13:52:12.961934Z",
     "start_time": "2025-05-07T13:52:12.957873Z"
    }
   },
   "cell_type": "code",
   "source": [
    "resposta = a != b\n",
    "print(resposta)"
   ],
   "id": "de85a3eac4a7d3c1",
   "outputs": [
    {
     "name": "stdout",
     "output_type": "stream",
     "text": [
      "False\n"
     ]
    }
   ],
   "execution_count": 36
  },
  {
   "metadata": {},
   "cell_type": "markdown",
   "source": "Variavel caractere/string",
   "id": "61f84392319ea53d"
  },
  {
   "metadata": {
    "ExecuteTime": {
     "end_time": "2025-05-07T14:07:19.499999Z",
     "start_time": "2025-05-07T14:07:19.496096Z"
    }
   },
   "cell_type": "code",
   "source": [
    "frase = 'Olá, mundo!'\n",
    "frase_2 = 'numero: 1'\n",
    "print(frase)\n",
    "print(frase_2)"
   ],
   "id": "e4818993f90fe35",
   "outputs": [
    {
     "name": "stdout",
     "output_type": "stream",
     "text": [
      "Olá, mundo!\n",
      "numero: 1\n"
     ]
    }
   ],
   "execution_count": 62
  },
  {
   "metadata": {},
   "cell_type": "markdown",
   "source": "se liga no indice de cada um",
   "id": "6ea32b6397798d3a"
  },
  {
   "metadata": {},
   "cell_type": "code",
   "outputs": [],
   "execution_count": null,
   "source": [
    "print(frase[0])\n",
    "print(frase[1])\n",
    "print(frase[2])\n",
    "print(frase[3])\n",
    "print(frase[4])\n",
    "print(frase[5])\n",
    "print(frase[6])\n",
    "print(frase[7])\n",
    "print(frase[8])\n",
    "print(frase[9])\n",
    "print(frase[10])"
   ],
   "id": "972c3a1711c7cb6a"
  },
  {
   "metadata": {
    "ExecuteTime": {
     "end_time": "2025-05-07T14:07:32.403848Z",
     "start_time": "2025-05-07T14:07:32.399908Z"
    }
   },
   "cell_type": "code",
   "source": "print(frase_2[0])",
   "id": "207975b38aa10d80",
   "outputs": [
    {
     "name": "stdout",
     "output_type": "stream",
     "text": [
      "n\n"
     ]
    }
   ],
   "execution_count": 64
  },
  {
   "metadata": {},
   "cell_type": "markdown",
   "source": "# Manipulação de strings",
   "id": "b71fa06cbf339a93"
  },
  {
   "metadata": {},
   "cell_type": "markdown",
   "source": "Concatenação",
   "id": "9236394c4c103bdd"
  },
  {
   "metadata": {},
   "cell_type": "code",
   "outputs": [],
   "execution_count": null,
   "source": [
    "s1 = 'Lógica de Programação'\n",
    "s1 = s1 + 'e Algoritmos'\n",
    "print(s1)"
   ],
   "id": "d26c60f31b47b7f3"
  },
  {
   "metadata": {},
   "cell_type": "markdown",
   "source": "_repetindo strings na concatenação_",
   "id": "4a7502a03743d312"
  },
  {
   "metadata": {
    "ExecuteTime": {
     "end_time": "2025-05-07T14:11:26.418165Z",
     "start_time": "2025-05-07T14:11:26.415050Z"
    }
   },
   "cell_type": "code",
   "source": [
    "s1 = 'A' + '-' * 10 + 'B'\n",
    "print(s1)"
   ],
   "id": "8b43c46809cb81d2",
   "outputs": [
    {
     "name": "stdout",
     "output_type": "stream",
     "text": [
      "A----------B\n"
     ]
    }
   ],
   "execution_count": 66
  },
  {
   "metadata": {
    "ExecuteTime": {
     "end_time": "2025-05-07T14:11:48.839610Z",
     "start_time": "2025-05-07T14:11:48.836629Z"
    }
   },
   "cell_type": "code",
   "source": [
    "s1 = 'A' + ' ' * 10 + 'B'\n",
    "print(s1)"
   ],
   "id": "e7e09d18bd502a7b",
   "outputs": [
    {
     "name": "stdout",
     "output_type": "stream",
     "text": [
      "A          B\n"
     ]
    }
   ],
   "execution_count": 68
  },
  {
   "metadata": {},
   "cell_type": "markdown",
   "source": "Composição por marcador de posição",
   "id": "8c3aad3f03e7c2c5"
  },
  {
   "metadata": {
    "ExecuteTime": {
     "end_time": "2025-05-08T10:24:49.505740Z",
     "start_time": "2025-05-08T10:24:49.501534Z"
    }
   },
   "cell_type": "code",
   "source": [
    "nota = 8.5\n",
    "s1 = 'Você tirou %f na disciplina de Algoritmos' % nota\n",
    "print(s1)"
   ],
   "id": "a31711838d400e63",
   "outputs": [
    {
     "name": "stdout",
     "output_type": "stream",
     "text": [
      "Você tirou 8.500000 na disciplina de Algoritmos\n"
     ]
    }
   ],
   "execution_count": 1
  },
  {
   "metadata": {},
   "cell_type": "markdown",
   "source": "_limitando as casas decimais_",
   "id": "e481bc4537bd3941"
  },
  {
   "metadata": {
    "ExecuteTime": {
     "end_time": "2025-05-08T10:25:41.260552Z",
     "start_time": "2025-05-08T10:25:41.256817Z"
    }
   },
   "cell_type": "code",
   "source": [
    "nota = 8.5\n",
    "s1 = 'Você tirou %.2f na disciplina de Algoritmos' % nota\n",
    "print(s1)"
   ],
   "id": "de38b8ec33fe8f3c",
   "outputs": [
    {
     "name": "stdout",
     "output_type": "stream",
     "text": [
      "Você tirou 8.50 na disciplina de Algoritmos\n"
     ]
    }
   ],
   "execution_count": 2
  },
  {
   "metadata": {},
   "cell_type": "markdown",
   "source": "_Várias varáveis_",
   "id": "80086113023ee57b"
  },
  {
   "metadata": {
    "ExecuteTime": {
     "end_time": "2025-05-08T10:28:02.991591Z",
     "start_time": "2025-05-08T10:28:02.988013Z"
    }
   },
   "cell_type": "code",
   "source": [
    "nota = 8.5\n",
    "disciplina = 'Algoritmos'\n",
    "s1 = 'Você tirou %.2f na disciplina de %s' % (nota, disciplina)\n",
    "print(s1)"
   ],
   "id": "fdd037577d09bc67",
   "outputs": [
    {
     "name": "stdout",
     "output_type": "stream",
     "text": [
      "Você tirou 8.50 na disciplina de Algoritmos\n"
     ]
    }
   ],
   "execution_count": 4
  },
  {
   "metadata": {},
   "cell_type": "markdown",
   "source": "Composição moderna",
   "id": "696f59c7209719e8"
  },
  {
   "metadata": {
    "ExecuteTime": {
     "end_time": "2025-05-08T10:31:34.055517Z",
     "start_time": "2025-05-08T10:31:34.051298Z"
    }
   },
   "cell_type": "code",
   "source": [
    "nota = 8.5\n",
    "disciplina = 'Algoritmos'\n",
    "s1 = 'Você tirou {} na disciplina de {}'.format(nota, disciplina)\n",
    "print(s1)"
   ],
   "id": "d29de46ed3c229e0",
   "outputs": [
    {
     "name": "stdout",
     "output_type": "stream",
     "text": [
      "Você tirou 8.5 na disciplina de Algoritmos\n"
     ]
    }
   ],
   "execution_count": 5
  },
  {
   "metadata": {},
   "cell_type": "markdown",
   "source": "Composição com f-strings",
   "id": "6794972d32d47825"
  },
  {
   "metadata": {
    "ExecuteTime": {
     "end_time": "2025-05-08T10:33:20.265069Z",
     "start_time": "2025-05-08T10:33:20.261504Z"
    }
   },
   "cell_type": "code",
   "source": [
    "nota = 8.5\n",
    "disciplina = 'Algoritmos'\n",
    "s1 = f'Você tirou {nota} na disciplina de {disciplina}'\n",
    "print(s1)"
   ],
   "id": "6ae9b7e2139cfbea",
   "outputs": [
    {
     "name": "stdout",
     "output_type": "stream",
     "text": [
      "Você tirou 8.5 na disciplina de Algoritmos\n"
     ]
    }
   ],
   "execution_count": 6
  },
  {
   "metadata": {},
   "cell_type": "markdown",
   "source": "Fatiamento",
   "id": "c1083d6d17c780c2"
  },
  {
   "metadata": {
    "ExecuteTime": {
     "end_time": "2025-05-08T10:35:46.414991Z",
     "start_time": "2025-05-08T10:35:46.411450Z"
    }
   },
   "cell_type": "code",
   "source": [
    "s1 = 'Lógica de Programação e Algoritmos'\n",
    "print(s1[0:6])"
   ],
   "id": "f973b16de31dddae",
   "outputs": [
    {
     "name": "stdout",
     "output_type": "stream",
     "text": [
      "Lógica\n"
     ]
    }
   ],
   "execution_count": 7
  },
  {
   "metadata": {
    "ExecuteTime": {
     "end_time": "2025-05-08T10:38:44.822026Z",
     "start_time": "2025-05-08T10:38:44.818749Z"
    }
   },
   "cell_type": "code",
   "source": [
    "s1 = 'Lógica de Programação e Algoritmos'\n",
    "print(s1[24:34])"
   ],
   "id": "6d6ec8cf9727f484",
   "outputs": [
    {
     "name": "stdout",
     "output_type": "stream",
     "text": [
      "Algoritmos\n"
     ]
    }
   ],
   "execution_count": 8
  },
  {
   "metadata": {
    "ExecuteTime": {
     "end_time": "2025-05-08T10:39:39.594704Z",
     "start_time": "2025-05-08T10:39:39.590060Z"
    }
   },
   "cell_type": "code",
   "source": [
    "s1 = 'Lógica de Programação e Algoritmos'\n",
    "print(s1[:6])"
   ],
   "id": "f317e77b2e81a358",
   "outputs": [
    {
     "name": "stdout",
     "output_type": "stream",
     "text": [
      "\n"
     ]
    }
   ],
   "execution_count": 11
  },
  {
   "metadata": {},
   "cell_type": "code",
   "outputs": [],
   "execution_count": null,
   "source": [
    "s1 = 'Lógica de Programação e Algoritmos'\n",
    "print(s1[24:])"
   ],
   "id": "16ad2581a4fe7cc"
  },
  {
   "metadata": {},
   "cell_type": "markdown",
   "source": "Tamanho (length)",
   "id": "47dfb06c07f0f9b9"
  },
  {
   "metadata": {
    "ExecuteTime": {
     "end_time": "2025-05-08T10:43:24.103800Z",
     "start_time": "2025-05-08T10:43:24.099707Z"
    }
   },
   "cell_type": "code",
   "source": [
    "s1 = 'Lógica de Programação e Algoritmos'\n",
    "tamanho = len(s1)\n",
    "print(s1,'tem', tamanho, 'caracteres')"
   ],
   "id": "2f1996cc7e967e01",
   "outputs": [
    {
     "name": "stdout",
     "output_type": "stream",
     "text": [
      "Lógica de Programação e Algoritmos tem 34 caracteres\n"
     ]
    }
   ],
   "execution_count": 16
  },
  {
   "metadata": {},
   "cell_type": "markdown",
   "source": "# Função de entrada e fluxo de execução do programa",
   "id": "866b4bf158dd0b71"
  },
  {
   "metadata": {
    "ExecuteTime": {
     "end_time": "2025-05-08T10:49:00.974082Z",
     "start_time": "2025-05-08T10:48:56.735140Z"
    }
   },
   "cell_type": "code",
   "source": [
    "idade = input('Digite sua idade: ')\n",
    "print('Sua idade é',idade,'anos')"
   ],
   "id": "f32e7c11a08050d3",
   "outputs": [
    {
     "name": "stdout",
     "output_type": "stream",
     "text": [
      "Sua idade é 9 anos\n"
     ]
    }
   ],
   "execution_count": 20
  },
  {
   "metadata": {
    "ExecuteTime": {
     "end_time": "2025-05-08T10:50:06.501723Z",
     "start_time": "2025-05-08T10:50:04.744285Z"
    }
   },
   "cell_type": "code",
   "source": [
    "nome = input('Qual seu nome? ')\n",
    "print(f'Olá {nome}, seja bem-vindo!')"
   ],
   "id": "2fc34718fa366b0",
   "outputs": [
    {
     "name": "stdout",
     "output_type": "stream",
     "text": [
      "Olá a, seja bem-vindo!\n"
     ]
    }
   ],
   "execution_count": 21
  },
  {
   "metadata": {},
   "cell_type": "markdown",
   "source": "Convertendo dados de entrada (casting)",
   "id": "fd88dff32669585"
  },
  {
   "metadata": {
    "ExecuteTime": {
     "end_time": "2025-05-08T10:56:51.837806Z",
     "start_time": "2025-05-08T10:56:48.341292Z"
    }
   },
   "cell_type": "code",
   "source": [
    "nota = float(input('Qual nota você recebeu na disciplina?'))\n",
    "print(f'Você tirou a nota {nota}.')\n",
    "soma = nota + nota\n",
    "print(f'O dobro de sua nota é {soma}.')"
   ],
   "id": "98cfc232bca0d481",
   "outputs": [
    {
     "name": "stdout",
     "output_type": "stream",
     "text": [
      "Você tirou a nota 1.0.\n",
      "O dobro de sua nota é 2.0.\n"
     ]
    }
   ],
   "execution_count": 23
  },
  {
   "metadata": {},
   "cell_type": "markdown",
   "source": "Python sempre retorna o input como string",
   "id": "33ac676fa2cf5cd"
  },
  {
   "metadata": {
    "ExecuteTime": {
     "end_time": "2025-05-08T10:57:53.238965Z",
     "start_time": "2025-05-08T10:57:51.497168Z"
    }
   },
   "cell_type": "code",
   "source": [
    "nota = input('Qual nota você recebeu na disciplina?')\n",
    "print(f'Você tirou a nota {nota}.')\n",
    "soma = nota + nota\n",
    "print(f'O dobro de sua nota é {soma}.')"
   ],
   "id": "5865416ba2e87a4e",
   "outputs": [
    {
     "name": "stdout",
     "output_type": "stream",
     "text": [
      "Você tirou a nota 11.\n",
      "O dobro de sua nota é 1111.\n"
     ]
    }
   ],
   "execution_count": 24
  },
  {
   "metadata": {},
   "cell_type": "markdown",
   "source": "Fluxo de execução do programa e o Teste de mesa",
   "id": "86b1491368f75e6a"
  },
  {
   "metadata": {
    "ExecuteTime": {
     "end_time": "2025-05-08T11:02:57.172257Z",
     "start_time": "2025-05-08T11:02:57.168968Z"
    }
   },
   "cell_type": "code",
   "source": [
    "x = 1\n",
    "y = 1\n",
    "z = x + y #z = 2\n",
    "\n",
    "x = x + 2 #x=1+2=3\n",
    "y = y - 1 #y=1-1=0\n",
    "z = x + y #z=3+0=3\n",
    "\n",
    "x = y + 1 #x=0+1=1\n",
    "y = x - 1 #y=1-1=0\n",
    "z = x + y #z=1+0=1\n",
    "\n",
    "print(z) #z=1"
   ],
   "id": "1aa12c3f2c1863c0",
   "outputs": [
    {
     "name": "stdout",
     "output_type": "stream",
     "text": [
      "1\n"
     ]
    }
   ],
   "execution_count": 25
  },
  {
   "metadata": {},
   "cell_type": "markdown",
   "source": "# Exercício",
   "id": "5355fc2e677e501c"
  },
  {
   "metadata": {},
   "cell_type": "markdown",
   "source": "Desenvolva um algortimo que solicite ao usuário dois números inteiros. Imprima a soma desse dois números na tela",
   "id": "fec9dfe6201a0293"
  },
  {
   "metadata": {
    "ExecuteTime": {
     "end_time": "2025-05-08T11:15:32.349047Z",
     "start_time": "2025-05-08T11:15:29.530703Z"
    }
   },
   "cell_type": "code",
   "source": [
    "n1= int(input('Insira um número inteiro: '))\n",
    "n2= int(input('Insira outro número inteiro: '))\n",
    "#maneira moderna\n",
    "res= 'O resultado da soma de {} + {} = {}'.format(n1,n2, n1+n2)\n",
    "print(res)\n",
    "#maneira com f-string\n",
    "res= f'O resultado da some de {n1} com {n2} é {n1+n2}.'\n",
    "print(res)"
   ],
   "id": "acdd64dfc3b2165b",
   "outputs": [
    {
     "name": "stdout",
     "output_type": "stream",
     "text": [
      "O resultado da soma de 11 + 1 = 12\n",
      "O resultado da some de 11 com 1 é 12.\n"
     ]
    }
   ],
   "execution_count": 30
  }
 ],
 "metadata": {
  "kernelspec": {
   "display_name": "Python 3",
   "language": "python",
   "name": "python3"
  },
  "language_info": {
   "codemirror_mode": {
    "name": "ipython",
    "version": 2
   },
   "file_extension": ".py",
   "mimetype": "text/x-python",
   "name": "python",
   "nbconvert_exporter": "python",
   "pygments_lexer": "ipython2",
   "version": "2.7.6"
  }
 },
 "nbformat": 4,
 "nbformat_minor": 5
}
