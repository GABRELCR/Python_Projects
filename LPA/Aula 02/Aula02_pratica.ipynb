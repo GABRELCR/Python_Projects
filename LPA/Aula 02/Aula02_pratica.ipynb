{
 "cells": [
  {
   "metadata": {},
   "cell_type": "markdown",
   "source": "# Aula prática",
   "id": "b19cbb2b84ca95bd"
  },
  {
   "metadata": {},
   "cell_type": "markdown",
   "source": [
    "Escreva as seguintes expressões algébricas em linguagem Python\n",
    "\n",
    "a) O somatório dos 5 primeiros números inteiros e positivos\n",
    "\n",
    "b) A média entre 23, 19 e 31\n",
    "\n",
    "c) O número de vezes que 73 cabe em 403\n",
    "\n",
    "d) A sobra quando 403 é dividido por 73"
   ],
   "id": "7e9588555666f074"
  },
  {
   "metadata": {
    "ExecuteTime": {
     "end_time": "2025-05-08T11:33:48.534313Z",
     "start_time": "2025-05-08T11:33:48.530478Z"
    }
   },
   "cell_type": "code",
   "source": "print(1+2+3+4+5)",
   "id": "4c39aa7def4a382e",
   "outputs": [
    {
     "name": "stdout",
     "output_type": "stream",
     "text": [
      "15\n"
     ]
    }
   ],
   "execution_count": 1
  },
  {
   "metadata": {
    "ExecuteTime": {
     "end_time": "2025-05-08T11:36:38.007882Z",
     "start_time": "2025-05-08T11:36:38.003886Z"
    }
   },
   "cell_type": "code",
   "source": "print((23+19+31)/3)",
   "id": "283cd16415437e53",
   "outputs": [
    {
     "name": "stdout",
     "output_type": "stream",
     "text": [
      "24.333333333333332\n"
     ]
    }
   ],
   "execution_count": 4
  },
  {
   "metadata": {
    "ExecuteTime": {
     "end_time": "2025-05-08T11:37:46.673413Z",
     "start_time": "2025-05-08T11:37:46.669046Z"
    }
   },
   "cell_type": "code",
   "source": "print(403//73)",
   "id": "7094ef67dc88c31d",
   "outputs": [
    {
     "name": "stdout",
     "output_type": "stream",
     "text": [
      "5\n"
     ]
    }
   ],
   "execution_count": 6
  },
  {
   "metadata": {
    "ExecuteTime": {
     "end_time": "2025-05-08T11:37:48.147923Z",
     "start_time": "2025-05-08T11:37:48.143437Z"
    }
   },
   "cell_type": "code",
   "source": "print(403%73)",
   "id": "be9511c2626691e",
   "outputs": [
    {
     "name": "stdout",
     "output_type": "stream",
     "text": [
      "38\n"
     ]
    }
   ],
   "execution_count": 7
  },
  {
   "metadata": {},
   "cell_type": "markdown",
   "source": [
    "e) 2 elevado à 10ª potência\n",
    "\n",
    "f) O valor absoluto da diferença entre 54 e 57\n",
    "\n",
    "g) O menor valor entre 34,29 e 31"
   ],
   "id": "e3cdb66f7414b520"
  },
  {
   "metadata": {
    "ExecuteTime": {
     "end_time": "2025-05-08T11:39:41.659368Z",
     "start_time": "2025-05-08T11:39:41.655962Z"
    }
   },
   "cell_type": "code",
   "source": "print(2**10)",
   "id": "b05c36d28ef3aa77",
   "outputs": [
    {
     "name": "stdout",
     "output_type": "stream",
     "text": [
      "1024\n"
     ]
    }
   ],
   "execution_count": 8
  },
  {
   "metadata": {
    "ExecuteTime": {
     "end_time": "2025-05-08T11:40:42.890534Z",
     "start_time": "2025-05-08T11:40:42.886761Z"
    }
   },
   "cell_type": "code",
   "source": "print(abs(54-57))",
   "id": "b10384a8bf3f7d68",
   "outputs": [
    {
     "name": "stdout",
     "output_type": "stream",
     "text": [
      "3\n"
     ]
    }
   ],
   "execution_count": 10
  },
  {
   "metadata": {
    "ExecuteTime": {
     "end_time": "2025-05-08T11:41:02.241140Z",
     "start_time": "2025-05-08T11:41:02.237409Z"
    }
   },
   "cell_type": "code",
   "source": "print(min(34,29,38))",
   "id": "65283f98125c39c9",
   "outputs": [
    {
     "name": "stdout",
     "output_type": "stream",
     "text": [
      "29\n"
     ]
    }
   ],
   "execution_count": 11
  },
  {
   "metadata": {},
   "cell_type": "markdown",
   "source": [
    "abs = Valor absoluto, não importa o sinal\n",
    "\n",
    "min = É o menor valor dentre a sequência"
   ],
   "id": "4a99b88db114e10d"
  },
  {
   "metadata": {},
   "cell_type": "markdown",
   "source": [
    "Escreva as expressões em Python para:\n",
    "\n",
    "a) Atribuir o valor inteiro 3 à variável \"a\"\n",
    "\n",
    "b) Atribuir o valor 4 à variável \"b\"\n",
    "\n",
    "c) Atribuir à variável \"c\" o valor da expressão axa + bxb"
   ],
   "id": "544cdbab3b3000b8"
  },
  {
   "metadata": {
    "ExecuteTime": {
     "end_time": "2025-05-08T11:45:48.032018Z",
     "start_time": "2025-05-08T11:45:48.027871Z"
    }
   },
   "cell_type": "code",
   "source": [
    "a = int(3)\n",
    "b = int(4)\n",
    "c = int(a*a + b*b)\n",
    "print(c)"
   ],
   "id": "fa82fcf381ca3fee",
   "outputs": [
    {
     "name": "stdout",
     "output_type": "stream",
     "text": [
      "25\n"
     ]
    }
   ],
   "execution_count": 13
  },
  {
   "metadata": {},
   "cell_type": "markdown",
   "source": [
    "Execute as seguintes atribuições:\n",
    "\n",
    "s1 = 'ant'\n",
    "\n",
    "s2 = 'bat'\n",
    "\n",
    "s3 = 'cod'\n",
    "\n",
    "Agora, utilizando os operadores + e *, cie as saídas a seguir:\n",
    "\n",
    "a) 'ant bat cod'\n",
    "\n",
    "b) 'ant ant ant ant ant ant ant ant ant ant'\n",
    "\n",
    "c) ant bat bat cod cod cod'\n",
    "\n",
    "d) 'ant bat ant bat ant bat ant bat ant bat ant bat ant bat'\n",
    "\n",
    "e) 'batbatcod batbatcod batbatcod batbatcod batbatcod'"
   ],
   "id": "8870c1cebc002a02"
  },
  {
   "metadata": {
    "ExecuteTime": {
     "end_time": "2025-05-08T12:15:25.742019Z",
     "start_time": "2025-05-08T12:15:25.737509Z"
    }
   },
   "cell_type": "code",
   "source": [
    "s1 = 'ant'\n",
    "s2 = 'bat'\n",
    "s3 = 'cod'\n",
    "\n",
    "sa= s1+' '+s2+' '+s3\n",
    "print(sa)\n",
    "\n",
    "sb= 10 * (s1+' ')\n",
    "print(sb)\n",
    "\n",
    "sc= s1 + ' ' + 2*(s2+' ') + 3*(s3+' ')\n",
    "print(sc)\n",
    "\n",
    "sd= 7*(s1+' '+s2+' ')\n",
    "print(sd)\n",
    "\n",
    "se= 5*((2*s2)+s3+' ')\n",
    "print(se)"
   ],
   "id": "7d6bf5f812d0d6ad",
   "outputs": [
    {
     "name": "stdout",
     "output_type": "stream",
     "text": [
      "ant bat cod\n",
      "ant ant ant ant ant ant ant ant ant ant \n",
      "ant bat bat cod cod cod \n",
      "ant bat ant bat ant bat ant bat ant bat ant bat ant bat \n",
      "batbatcod batbatcod batbatcod batbatcod batbatcod \n"
     ]
    }
   ],
   "execution_count": 27
  }
 ],
 "metadata": {
  "kernelspec": {
   "display_name": "Python 3",
   "language": "python",
   "name": "python3"
  },
  "language_info": {
   "codemirror_mode": {
    "name": "ipython",
    "version": 2
   },
   "file_extension": ".py",
   "mimetype": "text/x-python",
   "name": "python",
   "nbconvert_exporter": "python",
   "pygments_lexer": "ipython2",
   "version": "2.7.6"
  }
 },
 "nbformat": 4,
 "nbformat_minor": 5
}
