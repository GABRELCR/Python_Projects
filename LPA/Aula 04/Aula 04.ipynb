{
 "cells": [
  {
   "metadata": {},
   "cell_type": "markdown",
   "source": "# Estruturas de repetição",
   "id": "957fbdd8c55e0c34"
  },
  {
   "metadata": {
    "ExecuteTime": {
     "end_time": "2025-05-12T11:02:03.176430Z",
     "start_time": "2025-05-12T11:02:03.171287Z"
    }
   },
   "cell_type": "code",
   "source": [
    "print(1)\n",
    "print(2)\n",
    "print(3)\n",
    "print(4)\n",
    "print(5)"
   ],
   "id": "adf400c2eba272c8",
   "outputs": [
    {
     "name": "stdout",
     "output_type": "stream",
     "text": [
      "1\n",
      "2\n",
      "3\n",
      "4\n",
      "5\n"
     ]
    }
   ],
   "execution_count": 1
  },
  {
   "metadata": {
    "ExecuteTime": {
     "end_time": "2025-05-12T11:02:42.328406Z",
     "start_time": "2025-05-12T11:02:42.314375Z"
    }
   },
   "cell_type": "code",
   "source": [
    "x = 1\n",
    "print(x)\n",
    "x = 2\n",
    "print(x)\n",
    "x = 3\n",
    "print(x)\n",
    "x = 4\n",
    "print(x)\n",
    "x = 5\n",
    "print(x)"
   ],
   "id": "6ba980a901cb8d8a",
   "outputs": [
    {
     "name": "stdout",
     "output_type": "stream",
     "text": [
      "1\n",
      "2\n",
      "3\n",
      "4\n",
      "5\n"
     ]
    }
   ],
   "execution_count": 3
  },
  {
   "metadata": {
    "ExecuteTime": {
     "end_time": "2025-05-12T11:02:39.752479Z",
     "start_time": "2025-05-12T11:02:39.748759Z"
    }
   },
   "cell_type": "code",
   "source": [
    "x = 1\n",
    "print(x)\n",
    "x= x+1\n",
    "print(x)\n",
    "x= x+1\n",
    "print(x)\n",
    "x= x+1\n",
    "print(x)\n",
    "x= x+1\n",
    "print(x)"
   ],
   "id": "9ebbaf02ab210714",
   "outputs": [
    {
     "name": "stdout",
     "output_type": "stream",
     "text": [
      "1\n",
      "2\n",
      "3\n",
      "4\n",
      "5\n"
     ]
    }
   ],
   "execution_count": 2
  },
  {
   "metadata": {},
   "cell_type": "markdown",
   "source": "Estrutura de repetição: While",
   "id": "2ad050c4584e29e1"
  },
  {
   "metadata": {
    "ExecuteTime": {
     "end_time": "2025-05-12T11:16:53.318810Z",
     "start_time": "2025-05-12T11:16:53.313835Z"
    }
   },
   "cell_type": "code",
   "source": [
    "x = 1\n",
    "\n",
    "while (x<=5):\n",
    "    print(x)\n",
    "    x = x+1\n",
    "\n",
    "print(f'São {x} repetições')"
   ],
   "id": "332c2b0c3530885c",
   "outputs": [
    {
     "name": "stdout",
     "output_type": "stream",
     "text": [
      "1\n",
      "2\n",
      "3\n",
      "4\n",
      "5\n",
      "São 6 repetições\n"
     ]
    }
   ],
   "execution_count": 14
  },
  {
   "metadata": {},
   "cell_type": "code",
   "source": [
    "x = 1\n",
    "\n",
    "while (x <= 5):\n",
    "    print(x)\n",
    "    #x = x + 1"
   ],
   "id": "7554815932649a10",
   "outputs": [],
   "execution_count": null
  },
  {
   "metadata": {},
   "cell_type": "code",
   "source": [
    "x = 0\n",
    "\n",
    "while (x<=99):\n",
    "    print(x)\n",
    "    x = x+1\n",
    "\n",
    "print(f'São {x} repetições')"
   ],
   "id": "332098db8fc8c683",
   "outputs": [],
   "execution_count": null
  },
  {
   "metadata": {
    "ExecuteTime": {
     "end_time": "2025-05-12T11:53:43.142068Z",
     "start_time": "2025-05-12T11:53:43.137926Z"
    }
   },
   "cell_type": "code",
   "source": [
    "x = 0\n",
    "\n",
    "while (x<100):\n",
    "    print(x)\n",
    "    x = x+1\n",
    "\n",
    "print(f'São {x} repetições')"
   ],
   "id": "a1870b80046aa443",
   "outputs": [
    {
     "name": "stdout",
     "output_type": "stream",
     "text": [
      "1\n",
      "2\n",
      "3\n",
      "4\n",
      "5\n",
      "6\n",
      "7\n",
      "8\n",
      "9\n",
      "10\n",
      "11\n",
      "12\n",
      "13\n",
      "14\n",
      "15\n",
      "16\n",
      "17\n",
      "18\n",
      "19\n",
      "20\n",
      "21\n",
      "22\n",
      "23\n",
      "24\n",
      "25\n",
      "26\n",
      "27\n",
      "28\n",
      "29\n",
      "30\n",
      "31\n",
      "32\n",
      "33\n",
      "34\n",
      "35\n",
      "36\n",
      "37\n",
      "38\n",
      "39\n",
      "40\n",
      "41\n",
      "42\n",
      "43\n",
      "44\n",
      "45\n",
      "46\n",
      "47\n",
      "48\n",
      "49\n",
      "50\n",
      "51\n",
      "52\n",
      "53\n",
      "54\n",
      "55\n",
      "56\n",
      "57\n",
      "58\n",
      "59\n",
      "60\n",
      "61\n",
      "62\n",
      "63\n",
      "64\n",
      "65\n",
      "66\n",
      "67\n",
      "68\n",
      "69\n",
      "70\n",
      "71\n",
      "72\n",
      "73\n",
      "74\n",
      "75\n",
      "76\n",
      "77\n",
      "78\n",
      "79\n",
      "80\n",
      "81\n",
      "82\n",
      "83\n",
      "84\n",
      "85\n",
      "86\n",
      "87\n",
      "88\n",
      "89\n",
      "90\n",
      "91\n",
      "92\n",
      "93\n",
      "94\n",
      "95\n",
      "96\n",
      "97\n",
      "98\n",
      "99\n",
      "São 100 repetições\n"
     ]
    }
   ],
   "execution_count": 24
  },
  {
   "metadata": {},
   "cell_type": "markdown",
   "source": "# Exercício com contador",
   "id": "b26ad2a68a469368"
  },
  {
   "metadata": {
    "ExecuteTime": {
     "end_time": "2025-05-12T11:23:15.985535Z",
     "start_time": "2025-05-12T11:23:08.680988Z"
    }
   },
   "cell_type": "code",
   "source": [
    "inicial = int(input('Qual valor deseja iniciar a contagem? '))\n",
    "final = int(input('Qual valor deseja final? '))\n",
    "\n",
    "x = inicial\n",
    "\n",
    "while (x<=final):\n",
    "    #verifica se o número é par\n",
    "    if (x % 2 == 0):\n",
    "        print(x)\n",
    "    x = x+1"
   ],
   "id": "9f1518bc2ab30a03",
   "outputs": [
    {
     "name": "stdout",
     "output_type": "stream",
     "text": [
      "6\n",
      "8\n",
      "10\n",
      "12\n",
      "14\n",
      "16\n",
      "18\n",
      "20\n"
     ]
    }
   ],
   "execution_count": 19
  },
  {
   "metadata": {},
   "cell_type": "markdown",
   "source": "# Exercício com acumulador",
   "id": "7907c0c3db242a7f"
  },
  {
   "metadata": {
    "ExecuteTime": {
     "end_time": "2025-05-12T11:52:58.998855Z",
     "start_time": "2025-05-12T11:52:46.231424Z"
    }
   },
   "cell_type": "code",
   "source": [
    "soma = 0 # acumuladora\n",
    "cont = 1 # contagem\n",
    "\n",
    "while (cont <= 5):\n",
    "    x = float(input(f'Digite a {cont}ª nota: '))\n",
    "    soma = soma + x\n",
    "    cont = cont + 1\n",
    "media = soma / 5\n",
    "print(f'Média final: {media}')"
   ],
   "id": "c13586c486340a7a",
   "outputs": [
    {
     "name": "stdout",
     "output_type": "stream",
     "text": [
      "Média final: 8.0\n"
     ]
    }
   ],
   "execution_count": 23
  },
  {
   "metadata": {},
   "cell_type": "markdown",
   "source": "Tópicos importantes com laços em Python",
   "id": "fd5e7ddf74009b60"
  },
  {
   "metadata": {},
   "cell_type": "markdown",
   "source": "Operadores especiais",
   "id": "bf4ddac35097cc1f"
  },
  {
   "metadata": {},
   "cell_type": "code",
   "outputs": [
    {
     "name": "stdout",
     "output_type": "stream",
     "text": [
      "Média final: 5.0\n"
     ]
    }
   ],
   "execution_count": 25,
   "source": [
    "soma = 0 # acumuladora\n",
    "cont = 1 # contagem\n",
    "\n",
    "while (cont <= 5):\n",
    "    x = float(input(f'Digite a {cont}ª nota: '))\n",
    "    soma += x # Equivalente: soma = soma + x\n",
    "    cont += 1 # Equivalente: cont = cont + 1\n",
    "media = soma / 5\n",
    "print(f'Média final: {media}')"
   ],
   "id": "a30a25702af5e620"
  },
  {
   "metadata": {},
   "cell_type": "markdown",
   "source": "Validando dados de entrada",
   "id": "b45c34e9a4d6682a"
  },
  {
   "metadata": {},
   "cell_type": "code",
   "outputs": [
    {
     "name": "stdout",
     "output_type": "stream",
     "text": [
      "Você digitou 1. Encerrando o programa...\n"
     ]
    }
   ],
   "execution_count": 26,
   "source": [
    "# validando dados de entrada\n",
    "\n",
    "x = int(input('Digite um valor maior que zero: '))\n",
    "\n",
    "while (x<=0):\n",
    "    x = int(input('Digite um valor maior que zero: '))\n",
    "\n",
    "print(f'Você digitou {x}. Encerrando o programa...')"
   ],
   "id": "b548ad8834fbe1e1"
  },
  {
   "metadata": {},
   "cell_type": "markdown",
   "source": "interrompendo um loop com break",
   "id": "83d8e3112411f286"
  },
  {
   "metadata": {},
   "cell_type": "code",
   "outputs": [
    {
     "name": "stdout",
     "output_type": "stream",
     "text": [
      "Digite uma mensagem que irei repetir para você!\n",
      "Para encerrar escreva \"sair\".\n",
      "a\n",
      "d\n",
      "sair\n",
      "Encerrando o programa...\n"
     ]
    }
   ],
   "execution_count": 29,
   "source": [
    "print('Digite uma mensagem que irei repetir para você!')\n",
    "print('Para encerrar escreva \"sair\".')\n",
    "\n",
    "while True:\n",
    "    texto = input('')\n",
    "    print(texto)\n",
    "\n",
    "    if (texto == 'sair'):\n",
    "        break\n",
    "\n",
    "print('Encerrando o programa...')"
   ],
   "id": "d9fe4e96170d9118"
  },
  {
   "metadata": {},
   "cell_type": "markdown",
   "source": "Função continue",
   "id": "ffd3741ec177cadb"
  },
  {
   "metadata": {
    "ExecuteTime": {
     "end_time": "2025-05-12T12:39:27.284116Z",
     "start_time": "2025-05-12T12:39:14.837208Z"
    }
   },
   "cell_type": "code",
   "source": [
    "while True:\n",
    "    nome = input('Digite seu nome: ')\n",
    "\n",
    "    if (nome != 'Lenhadorzinho'):\n",
    "        continue #volta para o inicio do laço\n",
    "\n",
    "    senha = input('Digite sua senha: ')\n",
    "\n",
    "    if (senha == 'UnInTeR'):\n",
    "        break #encerra o laço\n",
    "\n",
    "print('Acesso liberado')"
   ],
   "id": "5e8c933980a27307",
   "outputs": [
    {
     "name": "stdout",
     "output_type": "stream",
     "text": [
      "Acesso liberado\n"
     ]
    }
   ],
   "execution_count": 32
  },
  {
   "metadata": {},
   "cell_type": "markdown",
   "source": "Truthy e Falsey",
   "id": "ac9646a7009db918"
  },
  {
   "metadata": {
    "ExecuteTime": {
     "end_time": "2025-05-12T12:48:07.395071Z",
     "start_time": "2025-05-12T12:47:56.862148Z"
    }
   },
   "cell_type": "code",
   "source": [
    "nome = '' #Falsey\n",
    "\n",
    "while not nome: # not Falsey (Truthy/True)\n",
    "    # encerra o laço quando não estiver vazio\n",
    "    nome = input('Digite seu nome: ')\n",
    "\n",
    "valor = int(input('Digite um valor: '))\n",
    "\n",
    "if (valor): # equivalente if valor != 0:\n",
    "    print('Você digitou um valor diferente de 0')\n",
    "\n",
    "else:\n",
    "    print('Você digitou zero.')"
   ],
   "id": "542877c2d2bc65c3",
   "outputs": [
    {
     "name": "stdout",
     "output_type": "stream",
     "text": [
      "Você digitou zero.\n"
     ]
    }
   ],
   "execution_count": 33
  },
  {
   "metadata": {},
   "cell_type": "markdown",
   "source": "Estrutura de repetição: For",
   "id": "b3bf9ebd2291180a"
  },
  {
   "metadata": {
    "ExecuteTime": {
     "end_time": "2025-05-12T12:59:50.764686Z",
     "start_time": "2025-05-12T12:59:50.761671Z"
    }
   },
   "cell_type": "code",
   "source": [
    "for i in range(6): #valor final tem que ter 1 a mais\n",
    "    print(i) # por padrão assume 0 e que vai de 1 em 1"
   ],
   "id": "16956a54e0d0c2d7",
   "outputs": [
    {
     "name": "stdout",
     "output_type": "stream",
     "text": [
      "0\n",
      "1\n",
      "2\n",
      "3\n",
      "4\n",
      "5\n"
     ]
    }
   ],
   "execution_count": 38
  },
  {
   "metadata": {
    "ExecuteTime": {
     "end_time": "2025-05-12T13:02:21.904735Z",
     "start_time": "2025-05-12T13:02:21.901585Z"
    }
   },
   "cell_type": "code",
   "source": [
    "for i in range(1,6,2): #valor final tem que ter +1\n",
    "    print(i) #começa no 1 e vai de 2 em 2"
   ],
   "id": "b10b4382a3cd0fe4",
   "outputs": [
    {
     "name": "stdout",
     "output_type": "stream",
     "text": [
      "1\n",
      "3\n",
      "5\n"
     ]
    }
   ],
   "execution_count": 40
  },
  {
   "metadata": {
    "ExecuteTime": {
     "end_time": "2025-05-12T13:02:52.072427Z",
     "start_time": "2025-05-12T13:02:52.069266Z"
    }
   },
   "cell_type": "code",
   "source": [
    "for i in range(10,0,-2): #valor final decrescente vai com +1\n",
    "    print(i) #vai de 10 a 1 com -2 em -2"
   ],
   "id": "46c9e6b038728d7a",
   "outputs": [
    {
     "name": "stdout",
     "output_type": "stream",
     "text": [
      "10\n",
      "8\n",
      "6\n",
      "4\n",
      "2\n"
     ]
    }
   ],
   "execution_count": 41
  },
  {
   "metadata": {},
   "cell_type": "markdown",
   "source": "Varredura de strings com for",
   "id": "feac8d6f2e9343e7"
  },
  {
   "metadata": {
    "ExecuteTime": {
     "end_time": "2025-05-12T13:38:11.955985Z",
     "start_time": "2025-05-12T13:38:11.952079Z"
    }
   },
   "cell_type": "code",
   "source": [
    "frase = 'Lógica de Programação e Algoritmos'\n",
    "\n",
    "for i in range(0,len(frase),1):\n",
    "    print(frase[i])"
   ],
   "id": "8cb0ae640dc7c31f",
   "outputs": [
    {
     "name": "stdout",
     "output_type": "stream",
     "text": [
      "L\n",
      "ó\n",
      "g\n",
      "i\n",
      "c\n",
      "a\n",
      " \n",
      "d\n",
      "e\n",
      " \n",
      "P\n",
      "r\n",
      "o\n",
      "g\n",
      "r\n",
      "a\n",
      "m\n",
      "a\n",
      "ç\n",
      "ã\n",
      "o\n",
      " \n",
      "e\n",
      " \n",
      "A\n",
      "l\n",
      "g\n",
      "o\n",
      "r\n",
      "i\n",
      "t\n",
      "m\n",
      "o\n",
      "s\n"
     ]
    }
   ],
   "execution_count": 45
  },
  {
   "metadata": {
    "ExecuteTime": {
     "end_time": "2025-05-12T13:38:25.061010Z",
     "start_time": "2025-05-12T13:38:25.057524Z"
    }
   },
   "cell_type": "code",
   "source": [
    "frase = 'Lógica de Programação e Algoritmos'\n",
    "\n",
    "for i in range(0,len(frase),1):\n",
    "    print(frase[i], end='')"
   ],
   "id": "344b875aae6b73e7",
   "outputs": [
    {
     "name": "stdout",
     "output_type": "stream",
     "text": [
      "Lógica de Programação e Algoritmos"
     ]
    }
   ],
   "execution_count": 46
  },
  {
   "metadata": {},
   "cell_type": "markdown",
   "source": "Comparativo do while e for",
   "id": "950fcd065f7bb275"
  },
  {
   "metadata": {
    "ExecuteTime": {
     "end_time": "2025-05-12T13:39:35.534381Z",
     "start_time": "2025-05-12T13:39:35.530438Z"
    }
   },
   "cell_type": "code",
   "source": [
    "x = 1\n",
    "while x < 6:\n",
    "    print(x)\n",
    "    x += 1"
   ],
   "id": "94e049a2f3506751",
   "outputs": [
    {
     "name": "stdout",
     "output_type": "stream",
     "text": [
      "1\n",
      "2\n",
      "3\n",
      "4\n",
      "5\n"
     ]
    }
   ],
   "execution_count": 47
  },
  {
   "metadata": {
    "ExecuteTime": {
     "end_time": "2025-05-12T13:39:36.852091Z",
     "start_time": "2025-05-12T13:39:36.849233Z"
    }
   },
   "cell_type": "code",
   "source": [
    "for i in range(1,6,1):\n",
    "    print(i)"
   ],
   "id": "f8b1c6e656057e4b",
   "outputs": [
    {
     "name": "stdout",
     "output_type": "stream",
     "text": [
      "1\n",
      "2\n",
      "3\n",
      "4\n",
      "5\n"
     ]
    }
   ],
   "execution_count": 48
  },
  {
   "metadata": {},
   "cell_type": "markdown",
   "source": "# Exercicio for",
   "id": "894e369d4c60b997"
  },
  {
   "metadata": {
    "ExecuteTime": {
     "end_time": "2025-05-12T13:44:41.885904Z",
     "start_time": "2025-05-12T13:44:41.882078Z"
    }
   },
   "cell_type": "code",
   "source": [
    "soma = 0\n",
    "qtd = 0\n",
    "\n",
    "for i in range(1,101):\n",
    "    if (i % 2 == 0):\n",
    "        soma += i\n",
    "        qtd += 1\n",
    "\n",
    "media = soma / qtd\n",
    "\n",
    "print(f'A média dos valores pares de 1 até 100 é: {media:.1f}')"
   ],
   "id": "5dc2b99cbaf1bcef",
   "outputs": [
    {
     "name": "stdout",
     "output_type": "stream",
     "text": [
      "A média dos valores pares de 1 até 100 é: 51.0\n"
     ]
    }
   ],
   "execution_count": 52
  },
  {
   "metadata": {},
   "cell_type": "markdown",
   "source": "Estruturas de repetição aninhadas",
   "id": "9b05bb1f340fc46"
  },
  {
   "metadata": {},
   "cell_type": "code",
   "source": [
    "#2x While\n",
    "\n",
    "tabuada = 1\n",
    "\n",
    "while (tabuada <= 10):\n",
    "    print(f'TABUADA DO {tabuada}:')\n",
    "    i = 1\n",
    "\n",
    "    while i <= 10:\n",
    "        print(f'{tabuada} x {i} = {tabuada * i}')\n",
    "        i += 1\n",
    "\n",
    "    tabuada += 1"
   ],
   "id": "c89f3f69c0c52e44",
   "outputs": [],
   "execution_count": null
  },
  {
   "metadata": {},
   "cell_type": "code",
   "source": [
    "#2x For\n",
    "\n",
    "for tabuada in range(1,11,1):\n",
    "    print(f'TABUADA DO {tabuada}:')\n",
    "\n",
    "    for i in range(1,11,1):\n",
    "        print(f'{tabuada} x {i} = {tabuada * i}')"
   ],
   "id": "939e1309e4b57732",
   "outputs": [],
   "execution_count": null
  },
  {
   "metadata": {},
   "cell_type": "code",
   "source": [
    "# While + For\n",
    "\n",
    "tabuada = 1\n",
    "\n",
    "while (tabuada <= 10):\n",
    "    print(f'TABUADA DO {tabuada}:')\n",
    "\n",
    "    for i in range(1,11,1):\n",
    "        print(f'{tabuada} x {i} = {tabuada * i}')\n",
    "\n",
    "    tabuada += 1"
   ],
   "id": "9b1cb0b699a30b8",
   "outputs": [],
   "execution_count": null
  }
 ],
 "metadata": {
  "kernelspec": {
   "display_name": "Python 3",
   "language": "python",
   "name": "python3"
  },
  "language_info": {
   "codemirror_mode": {
    "name": "ipython",
    "version": 2
   },
   "file_extension": ".py",
   "mimetype": "text/x-python",
   "name": "python",
   "nbconvert_exporter": "python",
   "pygments_lexer": "ipython2",
   "version": "2.7.6"
  }
 },
 "nbformat": 4,
 "nbformat_minor": 5
}
